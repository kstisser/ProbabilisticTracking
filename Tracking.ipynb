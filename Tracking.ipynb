{
 "cells": [
  {
   "cell_type": "markdown",
   "id": "971900e0",
   "metadata": {},
   "source": [
    "The following tutorial will be explained, then expanded on in regards to multi-target tracking: https://pyro.ai/examples/tracking_1d.html\n",
    "\n",
    "First, to be able to run the tutorial, the following was done to create a runnable environment:\n",
    "1. Create an environment using anaconda\n",
    "2. Open a terminal using this environment\n",
    "3. Install pytorch by running in the terminal _conda installpytorch torchvision -c pytorch_\n",
    "4. Install pyro by running in the terminal _pip3 install pyro-ppl_\n",
    "\n",
    "Two things were added to the code base to be able to make it run out of a terminal:\n",
    "1. The following code was added due to this [stack overflow error recommendation](https://stackoverflow.com/questions/20554074/sklearn-omp-error-15-when-fitting-models):\n",
    "<pre><code>\n",
    "import os\n",
    "os.environ[\"KMP_DUPLICATE_LIB_OK\"]=\"TRUE\"\n",
    "</code></pre>\n",
    "2. The code line _pyplot.show()_ at the end of the plot_solution function so the plots would display outside of a Jupyter notebook. \n",
    "\n",
    "With the following command:\n",
    "_python track1D.py_ \n",
    "I am able to run the code from the tutorial. Next, I make the points worth noting in what is being run before I adapt and expand the code to different scenarios.\n",
    "\n"
   ]
  },
  {
   "cell_type": "code",
   "execution_count": null,
   "id": "8b06534c",
   "metadata": {},
   "outputs": [],
   "source": []
  }
 ],
 "metadata": {
  "kernelspec": {
   "display_name": "Python 3",
   "language": "python",
   "name": "python3"
  },
  "language_info": {
   "codemirror_mode": {
    "name": "ipython",
    "version": 3
   },
   "file_extension": ".py",
   "mimetype": "text/x-python",
   "name": "python",
   "nbconvert_exporter": "python",
   "pygments_lexer": "ipython3",
   "version": "3.8.10"
  }
 },
 "nbformat": 4,
 "nbformat_minor": 5
}
