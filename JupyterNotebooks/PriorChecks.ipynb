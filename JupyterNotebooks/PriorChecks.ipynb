{
 "cells": [
  {
   "cell_type": "markdown",
   "id": "d5c5adcc",
   "metadata": {},
   "source": [
    "<h1>Data Analysis</h1>\n",
    "<h2>Data Generation</h2>\n",
    "This page is for analysis of the data and analysis of the model. First, we'll look at the distributions of the different components of data generation. First, we'll load the imports and Data Generator before we plot the distributions of each data generator component. "
   ]
  },
  {
   "cell_type": "code",
   "execution_count": 3,
   "id": "e26943f1",
   "metadata": {},
   "outputs": [],
   "source": [
    "import math\n",
    "import os\n",
    "import torch\n",
    "from torch.distributions import constraints\n",
    "from matplotlib import pyplot\n",
    "\n",
    "import pyro\n",
    "import pyro.distributions as dist\n",
    "import pyro.poutine as poutine\n",
    "from pyro.contrib.tracking.assignment import MarginalAssignmentPersistent\n",
    "from pyro.distributions.util import gather\n",
    "from pyro.infer import SVI, TraceEnum_ELBO\n",
    "from pyro.optim import Adam\n",
    "import numpy as np\n",
    "import enum\n",
    "\n",
    "import os\n",
    "os.environ[\"KMP_DUPLICATE_LIB_OK\"]=\"TRUE\"\n",
    "\n",
    "assert pyro.__version__.startswith('1.7.0')\n",
    "\n",
    "class MovementType(enum.Enum):\n",
    "    Sinusoidal = 1\n",
    "    Linear2D = 2\n",
    "    Linear3D = 3\n",
    "\n",
    "class Args:\n",
    "    def __init__(self):\n",
    "        self.args = self.get_default_args()\n",
    "\n",
    "    def get_default_args(self):\n",
    "        self.num_frames = 5\n",
    "        self.max_num_objects = 4\n",
    "        self.expected_num_objects = 3.\n",
    "        self.expected_num_spurious = 1.\n",
    "        self.emission_prob = 0.8\n",
    "        self.emission_noise_scale = 0.1 \n",
    "        assert self.max_num_objects >= self.expected_num_objects\n",
    "        return self \n",
    "\n",
    "    def get_prior_predictive_checks_args(self):\n",
    "        self.num_frames = 5\n",
    "        self.expected_num_objects = int(dist.Uniform(1, 5).sample())\n",
    "        self.expected_num_spurious = float(int(dist.Uniform(1,3).sample()))\n",
    "        self.max_num_objects = int(self.expected_num_objects + self.expected_num_spurious)\n",
    "        self.emission_prob = max(0,min(1,abs((dist.Normal(0., 1.).rsample() + 3.)/4.))) #aiming for between [0.5,1.0]\n",
    "        self.emission_noise_scale = max(0,min(1,abs((dist.Normal(0., 1.).rsample() + 2.)/4.))) #aiming for between [0.0,0.5]\n",
    "        assert self.max_num_objects >= self.expected_num_objects\n",
    "        print(\"Predictive check args. Num objects: \", self.expected_num_objects, \" Num spurious: \", self.expected_num_spurious)\n",
    "        print(\"Emission prob: \", self.emission_prob, \" Noise scale: \", self.emission_noise_scale)\n",
    "        return self\n",
    "\n",
    "\n",
    "class DataGenerator:\n",
    "    def __init__(self, movementType):\n",
    "        print(\"Initializing DataGenerator with movement type \", movementType)\n",
    "        self.movementType = movementType\n",
    "        if self.movementType == MovementType.Sinusoidal:\n",
    "            self.numDimensions = 2\n",
    "        elif self.movementType == MovementType.Linear2D:\n",
    "            self.numDimensions = 2\n",
    "        elif self.movementType == MovementType.Linear3D:\n",
    "            self.numDimensions = 3\n",
    "        else:\n",
    "            print(\"Error! Don't recognize movement type! \", self.movementType)\n",
    "\n",
    "    def get_dynamics(self, num_frames):\n",
    "        if self.movementType == MovementType.Sinusoidal:\n",
    "            time = torch.arange(float(num_frames)) / (num_frames - 1)\n",
    "            dynamics = torch.stack([time.cos(), time.sin()], -1)\n",
    "        elif self.movementType == MovementType.Linear2D:\n",
    "            x = torch.arange(float(num_frames)) / (num_frames - 1)\n",
    "            y = torch.arange(float(num_frames)) / (num_frames - 1)\n",
    "            dynamics = torch.stack([x, y], -1)\n",
    "        elif self.movementType == MovementType.Linear3D:\n",
    "            x = torch.arange(float(num_frames)) / (num_frames - 1)\n",
    "            y = torch.arange(float(num_frames)) / (num_frames - 1)\n",
    "            z = torch.arange(float(num_frames)) / (num_frames - 1)\n",
    "            dynamics = torch.stack([x, y, z], -1)\n",
    "        else:\n",
    "            print(\"Error! Don't recognize movement type! \", self.movementType)\n",
    "\n",
    "        return dynamics"
   ]
  },
  {
   "cell_type": "markdown",
   "id": "c741b97b",
   "metadata": {},
   "source": [
    "<h3>Position Distribution</h3>\n",
    "The first distribution we will look at is the position distribution for a single object. "
   ]
  },
  {
   "cell_type": "code",
   "execution_count": 37,
   "id": "a1ee8ffb",
   "metadata": {},
   "outputs": [
    {
     "name": "stdout",
     "output_type": "stream",
     "text": [
      "Initializing DataGenerator with movement type  MovementType.Linear2D\n",
      "torch.Size([50, 1])\n",
      "torch.Size([50, 1])\n",
      "torch.Size([100, 1])\n",
      "tensor([[-0.4400,  1.1277]])\n"
     ]
    },
    {
     "data": {
      "text/plain": [
       "<matplotlib.collections.PathCollection at 0x14248bfa520>"
      ]
     },
     "execution_count": 37,
     "metadata": {},
     "output_type": "execute_result"
    },
    {
     "data": {
      "image/png": "[encoded data removed]",
      "text/plain": [
       "<Figure size 432x288 with 1 Axes>"
      ]
     },
     "metadata": {
      "needs_background": "light"
     },
     "output_type": "display_data"
    }
   ],
   "source": [
    "import matplotlib.pyplot as plt\n",
    "%matplotlib inline\n",
    "\n",
    "argsObj = Args()\n",
    "args = argsObj.get_default_args()\n",
    "args.num_frames = 100\n",
    "args.expected_num_objects = 1\n",
    "args.max_num_objects = 2\n",
    "\n",
    "#assume linear 2D motion\n",
    "num_dimensions = 2\n",
    "dataGenerator = DataGenerator(MovementType.Linear2D)\n",
    "num_objects = int(round(args.expected_num_objects))  \n",
    "states = dist.Normal(0., 1.).sample((num_objects, num_dimensions))\n",
    "dynamics = dataGenerator.get_dynamics(args.num_frames)\n",
    "positions = dynamics.mm(states.t())\n",
    "\n",
    "x = positions[:50]\n",
    "y = positions[50:]\n",
    "print(y.shape)\n",
    "print(x.shape)\n",
    "print(positions.shape)\n",
    "print(states)\n",
    "\n",
    "plt.scatter(x,y)"
   ]
  },
  {
   "cell_type": "markdown",
   "id": "022d1159",
   "metadata": {},
   "source": [
    "Next, we will look at multiple objects. This shows that any trajectory with the offset we're using still passes through the center. If we wanted we could add an additional offset, as there will be association confusion when passing through the center. "
   ]
  },
  {
   "cell_type": "code",
   "execution_count": 49,
   "id": "0fd2d69f",
   "metadata": {},
   "outputs": [
    {
     "name": "stdout",
     "output_type": "stream",
     "text": [
      "Initializing DataGenerator with movement type  MovementType.Linear2D\n",
      "torch.Size([50, 80])\n",
      "torch.Size([50, 80])\n",
      "torch.Size([100, 80])\n"
     ]
    },
    {
     "data": {
      "text/plain": [
       "Text(0.5, 1.0, 'No offset')"
      ]
     },
     "execution_count": 49,
     "metadata": {},
     "output_type": "execute_result"
    },
    {
     "data": {
      "image/png": "[encoded data removed]",
      "text/plain": [
       "<Figure size 432x288 with 1 Axes>"
      ]
     },
     "metadata": {
      "needs_background": "light"
     },
     "output_type": "display_data"
    }
   ],
   "source": [
    "argsObj = Args()\n",
    "args = argsObj.get_default_args()\n",
    "args.num_frames = 100\n",
    "args.expected_num_objects = 80\n",
    "args.max_num_objects = 101\n",
    "\n",
    "#assume linear 2D motion\n",
    "num_dimensions = 2\n",
    "dataGenerator = DataGenerator(MovementType.Linear2D)\n",
    "num_objects = int(round(args.expected_num_objects))  \n",
    "states = dist.Normal(0., 1.).sample((num_objects, num_dimensions))\n",
    "dynamics = dataGenerator.get_dynamics(args.num_frames)\n",
    "positions = dynamics.mm(states.t())\n",
    "\n",
    "x = positions[:50]\n",
    "y = positions[50:]\n",
    "print(y.shape)\n",
    "print(x.shape)\n",
    "print(positions.shape)\n",
    "#print(states)\n",
    "\n",
    "plt.scatter(x,y,cmap='jet')\n",
    "plt.title(\"No offset\")"
   ]
  },
  {
   "cell_type": "markdown",
   "id": "35cb7190",
   "metadata": {},
   "source": [
    "Now I add an offset, and I'll plot a few lines so we can see them over the distribution."
   ]
  },
  {
   "cell_type": "code",
   "execution_count": 69,
   "id": "faabd500",
   "metadata": {},
   "outputs": [
    {
     "name": "stdout",
     "output_type": "stream",
     "text": [
      "torch.Size([100, 80])\n",
      "torch.Size([80, 1])\n"
     ]
    },
    {
     "data": {
      "text/plain": [
       "Text(0.5, 1.0, 'With offset')"
      ]
     },
     "execution_count": 69,
     "metadata": {},
     "output_type": "execute_result"
    },
    {
     "data": {
      "image/png": "[encoded data removed]",
      "text/plain": [
       "<Figure size 432x288 with 1 Axes>"
      ]
     },
     "metadata": {
      "needs_background": "light"
     },
     "output_type": "display_data"
    }
   ],
   "source": [
    "offsets = dist.Uniform(0., 1.).sample((args.expected_num_objects,1))\n",
    "dynamics = dataGenerator.get_dynamics(args.num_frames)\n",
    "states = dist.Normal(0., 1.).sample((num_objects, num_dimensions))\n",
    "positions = dynamics.mm(states.t())\n",
    "positions = positions + offsets.t()\n",
    "\n",
    "print(positions.shape)\n",
    "print(offsets.shape)\n",
    "\n",
    "x = positions[:50]\n",
    "y = positions[50:]\n",
    "\n",
    "\n",
    "plt.scatter(x,y,cmap='jet')\n",
    "plt.plot(x[:,0],y[:,0],c='r')\n",
    "plt.plot(x[:,30],y[:,30],c='r')\n",
    "plt.plot(x[:,50],y[:,50],c='r')\n",
    "plt.title(\"With offset\")"
   ]
  },
  {
   "cell_type": "markdown",
   "id": "99a21df3",
   "metadata": {},
   "source": [
    "X and Y states need to be separated"
   ]
  },
  {
   "cell_type": "markdown",
   "id": "8dd1d336",
   "metadata": {},
   "source": [
    "<h2>Prior Predictive Checks</h2>"
   ]
  },
  {
   "cell_type": "markdown",
   "id": "e408c23a",
   "metadata": {},
   "source": [
    "To do prior predictive checks I needed to remove the \"observations\" or the data from the model to be able to check if the model performs acceptably without data. \n",
    "\n",
    "To do this, I needed to still have the num_observed, which relies on is_observed which relies on the observations variable. So, I created new variables using the following distributions, which represents a similar method the data would be generated by:\n",
    "spurious- Poisson\n",
    "emitted- Bernoulli\n",
    "\n",
    "is_observed is then obtained from emitted, which is a combination of the Bernoulli distribution of expected observations over a number of frames + spurious observations over a number of frames"
   ]
  },
  {
   "cell_type": "code",
   "execution_count": 257,
   "id": "0e2b8a65",
   "metadata": {},
   "outputs": [],
   "source": [
    "def model(args):\n",
    "    with pyro.plate(\"objects\", args.max_num_objects):\n",
    "        exists = pyro.sample(\"exists\",\n",
    "                            dist.Bernoulli(args.expected_num_objects / args.max_num_objects))\n",
    "        with poutine.mask(mask=exists.bool()):\n",
    "            states = pyro.sample(\"states\", dist.Normal(0., 1.).expand([args.num_dimensions]).to_event(1))\n",
    "            positions = dataGenerator.get_dynamics(args.num_frames).mm(states.t())\n",
    "    with pyro.plate(\"detections\", args.expected_num_objects):\n",
    "        with pyro.plate(\"time\", args.num_frames):\n",
    "            spurious = dist.Poisson(args.expected_num_spurious).sample((args.num_frames,1))\n",
    "            emitted = dist.Bernoulli(args.emission_prob).sample((int(args.num_frames), int(args.expected_num_objects)))\n",
    "            \n",
    "            #get the max # of spurious targets in a frame\n",
    "            maxSpurious = int(max(spurious)[0])\n",
    "            args.max_num_objects = int(args.expected_num_objects + maxSpurious)\n",
    "            spuriousVec = np.zeros((args.num_frames, maxSpurious))\n",
    "            \n",
    "            #assign 1 or observed for the number of spurious observations per frame\n",
    "            count = 0\n",
    "            for i in spurious:\n",
    "                spuriousVec[count,0:int(i[0])] = 1\n",
    "                count = count + 1\n",
    "                \n",
    "            print(\"Emitted shape before: \", emitted.shape)\n",
    "            print(emitted)\n",
    "            #combine the emitted with the spurious observations\n",
    "            emitted = torch.cat((emitted,torch.tensor(spuriousVec)), 1)\n",
    "            print(\"Emitted shape after: \", emitted.shape)\n",
    "            print(emitted)\n",
    "\n",
    "            #add assignment IDs for each of the observations\n",
    "            is_observed = (emitted > 0)\n",
    "            print(\"Max number of objects: \", args.max_num_objects)\n",
    "            print(\"is_observed shape: \", is_observed.shape)\n",
    "            print(is_observed)\n",
    "            with poutine.mask(mask=is_observed):\n",
    "                assign = pyro.sample(\"assign\",\n",
    "                                    dist.Categorical(torch.ones(args.max_num_objects)))\n",
    "            \n",
    "            print(\"Assign before, \", assign.shape, assign)\n",
    "            allZerosSpurious = torch.tensor(np.zeros((args.num_frames, maxSpurious),dtype=int))\n",
    "            assign = torch.cat((assign, allZerosSpurious), 1)\n",
    "            print(\"Assign after, \", assign)\n",
    "            is_spurious = np.zeros(emitted.shape, dtype=bool)\n",
    "            is_spurious[:,int(args.expected_num_objects):] = (spuriousVec).astype(bool)\n",
    "            is_spurious = torch.tensor(is_spurious)\n",
    "            is_real = is_observed & ~is_spurious\n",
    "            num_observed = is_observed.float().sum(-1, True)\n",
    "\n",
    "            bernoulliRealProbs = args.expected_num_objects / num_observed\n",
    "            bernoulliRealProbs = np.clip(bernoulliRealProbs, 0., 1.)\n",
    "            isReal = pyro.sample(\"is_real\",\n",
    "                        dist.Bernoulli(bernoulliRealProbs))\n",
    "\n",
    "            bernoulliSpuriousProbs = args.expected_num_spurious / num_observed\n",
    "            bernoulliSpuriousProbs = np.clip(bernoulliSpuriousProbs, 0., 1.)\n",
    "            isSpurious = pyro.sample(\"is_spurious\",\n",
    "                        dist.Bernoulli(bernoulliSpuriousProbs))\n",
    "\n",
    "            # The remaining continuous part is exact.\n",
    "            with poutine.mask(mask=is_real):\n",
    "                bogus_position = positions.new_zeros(args.num_frames, maxSpurious-1)\n",
    "                augmented_positions = torch.cat([positions, bogus_position], -1)\n",
    "                \n",
    "                predicted_positions = gather(augmented_positions, assign, -1)\n",
    "                real = pyro.sample(\"real_observations\",\n",
    "                            dist.Normal(predicted_positions, args.emission_noise_scale))\n",
    "            with poutine.mask(mask=is_spurious):\n",
    "                spurious = pyro.sample(\"spurious_observations\", dist.Normal(0., 1.))\n",
    "            return isReal, isSpurious, real, spurious"
   ]
  },
  {
   "cell_type": "code",
   "execution_count": 258,
   "id": "8ccfd21f",
   "metadata": {},
   "outputs": [
    {
     "name": "stdout",
     "output_type": "stream",
     "text": [
      "Emitted shape before:  torch.Size([5, 3])\n",
      "tensor([[1., 1., 0.],\n",
      "        [1., 1., 1.],\n",
      "        [1., 1., 1.],\n",
      "        [0., 0., 1.],\n",
      "        [0., 0., 1.]])\n",
      "Emitted shape after:  torch.Size([5, 6])\n",
      "tensor([[1., 1., 0., 0., 0., 0.],\n",
      "        [1., 1., 1., 0., 0., 0.],\n",
      "        [1., 1., 1., 1., 0., 0.],\n",
      "        [0., 0., 1., 1., 1., 1.],\n",
      "        [0., 0., 1., 1., 0., 0.]], dtype=torch.float64)\n",
      "Max number of objects:  6\n",
      "is_observed shape:  torch.Size([5, 6])\n",
      "tensor([[ True,  True, False, False, False, False],\n",
      "        [ True,  True,  True, False, False, False],\n",
      "        [ True,  True,  True,  True, False, False],\n",
      "        [False, False,  True,  True,  True,  True],\n",
      "        [False, False,  True,  True, False, False]])\n",
      "Assign before,  torch.Size([5, 3]) tensor([[0, 0, 2],\n",
      "        [3, 4, 2],\n",
      "        [5, 1, 2],\n",
      "        [2, 0, 5],\n",
      "        [5, 0, 0]])\n",
      "Assign after,  tensor([[0, 0, 2, 0, 0, 0],\n",
      "        [3, 4, 2, 0, 0, 0],\n",
      "        [5, 1, 2, 0, 0, 0],\n",
      "        [2, 0, 5, 0, 0, 0],\n",
      "        [5, 0, 0, 0, 0, 0]])\n",
      "Is Real Mask: \n",
      "tensor([[1., 1., 1.],\n",
      "        [1., 1., 1.],\n",
      "        [1., 0., 0.],\n",
      "        [1., 1., 1.],\n",
      "        [1., 1., 1.]])\n",
      "Is Spurious Mask: \n",
      "tensor([[0., 0., 1.],\n",
      "        [0., 0., 1.],\n",
      "        [1., 0., 0.],\n",
      "        [0., 1., 0.],\n",
      "        [0., 0., 1.]])\n",
      "Real Observations: \n",
      "tensor([[ 0.0658,  0.0616, -0.0082],\n",
      "        [-0.1946, -0.2796, -0.1689],\n",
      "        [ 0.1130, -0.0189,  0.0276],\n",
      "        [ 0.6788,  0.4725,  0.4119],\n",
      "        [-0.1740, -0.0638, -0.0072]])\n",
      "Spurious Observations: \n",
      "tensor([[ 0.2278,  0.6178,  0.5731],\n",
      "        [-2.2818,  1.1718,  0.3898],\n",
      "        [-0.7117, -0.4854, -0.7783],\n",
      "        [ 1.1671, -1.5150,  1.0832],\n",
      "        [ 0.6081,  0.8210, -0.2242]])\n"
     ]
    }
   ],
   "source": [
    "argsObj = Args()\n",
    "args = argsObj.get_default_args()\n",
    "args.num_dimensions = 2\n",
    "isReal, isSpurious, real_observations, spurious_observations = model(args)\n",
    "print(\"Is Real Mask: \")\n",
    "print(isReal)\n",
    "print(\"Is Spurious Mask: \")\n",
    "print(isSpurious)\n",
    "print(\"Real Observations: \")\n",
    "print(real_observations)\n",
    "print(\"Spurious Observations: \")\n",
    "print(spurious_observations)\n"
   ]
  },
  {
   "cell_type": "markdown",
   "id": "6748bac0",
   "metadata": {},
   "source": [
    "As you can see we need to normalize, and be able to produce many samples so we can visualize what distribution this model represents for spurious vs real objects being detected, especially if we modify the emission probability and the expected number of spurious returns. "
   ]
  },
  {
   "cell_type": "code",
   "execution_count": 259,
   "id": "92b4667e",
   "metadata": {},
   "outputs": [
    {
     "name": "stdout",
     "output_type": "stream",
     "text": [
      "tensor([[0.3604, 0.3560, 0.2831],\n",
      "        [0.0886, 0.0000, 0.1155],\n",
      "        [0.4096, 0.2720, 0.3205],\n",
      "        [1.0000, 0.7848, 0.7215],\n",
      "        [0.1101, 0.2251, 0.2842]])\n",
      "tensor([[0.7267, 0.8396, 0.8267],\n",
      "        [0.0000, 1.0000, 0.7736],\n",
      "        [0.4546, 0.5202, 0.4353],\n",
      "        [0.9986, 0.2220, 0.9743],\n",
      "        [0.8368, 0.8984, 0.5958]])\n"
     ]
    }
   ],
   "source": [
    "def normalize_tensor(data):\n",
    "    return (data - torch.min(data)) / (torch.max(data) - torch.min(data))\n",
    "\n",
    "normalizedReal = normalize_tensor(real_observations)\n",
    "print(normalizedReal)\n",
    "\n",
    "normalizedSpurious = normalize_tensor(spurious_observations)\n",
    "print(normalizedSpurious)"
   ]
  },
  {
   "cell_type": "code",
   "execution_count": 260,
   "id": "961ff136",
   "metadata": {},
   "outputs": [],
   "source": [
    "# For the binary \"Real\" and \"Spurious\" masks returns a vector of ratios that are real or spurious for each sample\n",
    "# For the normalized \"Real\" and \"Spurious\" likelihoods returns a vector of all scenarios concatted together\n",
    "# These can be used to acquire a mean and stddev and be plotted to see the distributions\n",
    "def getManySamples(args, number_of_samples):\n",
    "    numReal = []\n",
    "    numSpurious = []\n",
    "\n",
    "    allNormalizedReal = torch.tensor([])\n",
    "    allNormalizedSpurious = torch.tensor([])\n",
    "\n",
    "    for i in range(number_of_samples):\n",
    "        isReal, isSpurious, real_observations, spurious_observations = model(args)\n",
    "\n",
    "        normalizedReal = normalize_tensor(real_observations)\n",
    "        normalizedSpurious = normalize_tensor(spurious_observations)\n",
    "\n",
    "        #add ratio of real and spurious\n",
    "        numReal.append(torch.sum(isReal)/torch.numel(isReal))\n",
    "        numSpurious.append(torch.sum(isSpurious)/torch.numel(isSpurious))\n",
    "\n",
    "        #Accumulating all percentages from all samples so we can compute a mean and stddev\n",
    "        allNormalizedReal = torch.cat((allNormalizedReal, normalizedReal),1)\n",
    "        allNormalizedSpurious = torch.cat((allNormalizedSpurious, normalizedSpurious),1)\n",
    "\n",
    "    return numReal, numSpurious, allNormalizedReal, allNormalizedSpurious\n",
    "\n",
    "def getStatsAndPlotCount(numReal, numSpurious, ax, args):\n",
    "    numRealMean = np.mean(np.array(numReal))\n",
    "    numRealStddev = np.std(np.array(numReal))\n",
    "    print(\"Num real mean: \", numRealMean, \" stddev: \", numRealStddev)\n",
    "\n",
    "    ax[0].plot(numReal, norm.pdf(numRealMean, numRealStddev), 'g')\n",
    "\n",
    "    numSpuriousMean = np.mean(np.array(numSpurious))\n",
    "    numSpuriousStddev = np.std(np.array(numSpurious))\n",
    "    print(\"Num real mean: \", numSpuriousMean, \" stddev: \", numSpuriousStddev)\n",
    "\n",
    "    ax[0].plot(numSpurious, norm.pdf(numSpuriousMean, numSpuriousStddev), 'r')\n",
    "\n",
    "def getStatsAndPlotNormalized(allNormalizedReal, allNormalizedSpurious, ax, args):\n",
    "    normRealSum = torch.sum(allNormalizedReal)\n",
    "    normRealMean = normRealSum/torch.numel(allNormalizedReal)\n",
    "\n",
    "    realTitle = \"Real, emissionProb: \" + str(args.emission_prob)\n",
    "    ax[1].plot(allNormalizedReal, norm.pdf(normRealMean, torch.var(allNormalizedReal), unbiased=False), 'g', label=realTitle)\n",
    "\n",
    "    normSpuriousSum = torch.sum(allNormalizedSpurious)\n",
    "    normSpuriousMean = normSpuriousSum/torch.numel(allNormalizedSpurious)\n",
    "\n",
    "    spuriousTitle = \"Spurious, expected: \" + str(args.expected_num_spurious)\n",
    "    ax[1].plot(allNormalizedSpurious, norm.pdf(normSpuriousMean, torch.var(allSpurious, unbiased=False)), 'r', label=spuriousTitle)\n"
   ]
  },
  {
   "cell_type": "code",
   "execution_count": 261,
   "id": "a89db985",
   "metadata": {},
   "outputs": [
    {
     "name": "stdout",
     "output_type": "stream",
     "text": [
      "Running variation with: \n",
      "Emission Probability:  0.8\n",
      "Expected Number of Spurious:  1.0\n",
      "Emitted shape before:  torch.Size([5, 3])\n",
      "tensor([[1., 1., 0.],\n",
      "        [1., 1., 1.],\n",
      "        [1., 1., 1.],\n",
      "        [1., 1., 1.],\n",
      "        [0., 1., 1.]])\n",
      "Emitted shape after:  torch.Size([5, 5])\n",
      "tensor([[1., 1., 0., 1., 0.],\n",
      "        [1., 1., 1., 1., 1.],\n",
      "        [1., 1., 1., 1., 0.],\n",
      "        [1., 1., 1., 1., 0.],\n",
      "        [0., 1., 1., 1., 0.]], dtype=torch.float64)\n",
      "Max number of objects:  5\n",
      "is_observed shape:  torch.Size([5, 5])\n",
      "tensor([[ True,  True, False,  True, False],\n",
      "        [ True,  True,  True,  True,  True],\n",
      "        [ True,  True,  True,  True, False],\n",
      "        [ True,  True,  True,  True, False],\n",
      "        [False,  True,  True,  True, False]])\n",
      "Assign before,  torch.Size([5, 3]) tensor([[3, 0, 0],\n",
      "        [1, 0, 2],\n",
      "        [3, 3, 2],\n",
      "        [3, 1, 4],\n",
      "        [0, 1, 0]])\n",
      "Assign after,  tensor([[3, 0, 0, 0, 0],\n",
      "        [1, 0, 2, 0, 0],\n",
      "        [3, 3, 2, 0, 0],\n",
      "        [3, 1, 4, 0, 0],\n",
      "        [0, 1, 0, 0, 0]])\n",
      "Emitted shape before:  torch.Size([5, 3])\n",
      "tensor([[1., 1., 1.],\n",
      "        [1., 0., 0.],\n",
      "        [1., 1., 1.],\n",
      "        [0., 1., 1.],\n",
      "        [0., 1., 1.]])\n",
      "Emitted shape after:  torch.Size([5, 5])\n",
      "tensor([[1., 1., 1., 0., 0.],\n",
      "        [1., 0., 0., 1., 1.],\n",
      "        [1., 1., 1., 0., 0.],\n",
      "        [0., 1., 1., 0., 0.],\n",
      "        [0., 1., 1., 1., 0.]], dtype=torch.float64)\n",
      "Max number of objects:  5\n",
      "is_observed shape:  torch.Size([5, 5])\n",
      "tensor([[ True,  True,  True, False, False],\n",
      "        [ True, False, False,  True,  True],\n",
      "        [ True,  True,  True, False, False],\n",
      "        [False,  True,  True, False, False],\n",
      "        [False,  True,  True,  True, False]])\n",
      "Assign before,  torch.Size([5, 3]) tensor([[1, 4, 2],\n",
      "        [3, 4, 4],\n",
      "        [3, 4, 3],\n",
      "        [1, 4, 4],\n",
      "        [1, 3, 1]])\n",
      "Assign after,  tensor([[1, 4, 2, 0, 0],\n",
      "        [3, 4, 4, 0, 0],\n",
      "        [3, 4, 3, 0, 0],\n",
      "        [1, 4, 4, 0, 0],\n",
      "        [1, 3, 1, 0, 0]])\n"
     ]
    },
    {
     "ename": "RuntimeError",
     "evalue": "The size of tensor a (6) must match the size of tensor b (5) at non-singleton dimension 1",
     "output_type": "error",
     "traceback": [
      "\u001b[1;31m---------------------------------------------------------------------------\u001b[0m",
      "\u001b[1;31mRuntimeError\u001b[0m                              Traceback (most recent call last)",
      "\u001b[1;32m<ipython-input-261-0c1b26702031>\u001b[0m in \u001b[0;36m<module>\u001b[1;34m\u001b[0m\n\u001b[0;32m     17\u001b[0m \u001b[1;33m\u001b[0m\u001b[0m\n\u001b[0;32m     18\u001b[0m \u001b[1;31m#run default arguments\u001b[0m\u001b[1;33m\u001b[0m\u001b[1;33m\u001b[0m\u001b[1;33m\u001b[0m\u001b[0m\n\u001b[1;32m---> 19\u001b[1;33m \u001b[0mrunPriorPredictiveChecks\u001b[0m\u001b[1;33m(\u001b[0m\u001b[0margs\u001b[0m\u001b[1;33m,\u001b[0m \u001b[0max\u001b[0m\u001b[1;33m,\u001b[0m \u001b[1;36m1.0\u001b[0m\u001b[1;33m,\u001b[0m \u001b[1;36m1.0\u001b[0m\u001b[1;33m)\u001b[0m\u001b[1;33m\u001b[0m\u001b[1;33m\u001b[0m\u001b[0m\n\u001b[0m\u001b[0;32m     20\u001b[0m \u001b[0max\u001b[0m\u001b[1;33m[\u001b[0m\u001b[1;36m0\u001b[0m\u001b[1;33m]\u001b[0m\u001b[1;33m.\u001b[0m\u001b[0mlegend\u001b[0m\u001b[1;33m(\u001b[0m\u001b[0mshadow\u001b[0m\u001b[1;33m=\u001b[0m\u001b[1;32mTrue\u001b[0m\u001b[1;33m,\u001b[0m \u001b[0mfancybox\u001b[0m\u001b[1;33m=\u001b[0m\u001b[1;32mTrue\u001b[0m\u001b[1;33m)\u001b[0m\u001b[1;33m\u001b[0m\u001b[1;33m\u001b[0m\u001b[0m\n\u001b[0;32m     21\u001b[0m \u001b[0max\u001b[0m\u001b[1;33m[\u001b[0m\u001b[1;36m1\u001b[0m\u001b[1;33m]\u001b[0m\u001b[1;33m.\u001b[0m\u001b[0mlegend\u001b[0m\u001b[1;33m(\u001b[0m\u001b[0mshadow\u001b[0m\u001b[1;33m=\u001b[0m\u001b[1;32mTrue\u001b[0m\u001b[1;33m,\u001b[0m \u001b[0mfancybox\u001b[0m\u001b[1;33m=\u001b[0m\u001b[1;32mTrue\u001b[0m\u001b[1;33m)\u001b[0m\u001b[1;33m\u001b[0m\u001b[1;33m\u001b[0m\u001b[0m\n",
      "\u001b[1;32m<ipython-input-261-0c1b26702031>\u001b[0m in \u001b[0;36mrunPriorPredictiveChecks\u001b[1;34m(args, ax, emissionColor, spuriousColor)\u001b[0m\n\u001b[0;32m      3\u001b[0m     \u001b[0mprint\u001b[0m\u001b[1;33m(\u001b[0m\u001b[1;34m\"Emission Probability: \"\u001b[0m\u001b[1;33m,\u001b[0m \u001b[0margs\u001b[0m\u001b[1;33m.\u001b[0m\u001b[0memission_prob\u001b[0m\u001b[1;33m)\u001b[0m\u001b[1;33m\u001b[0m\u001b[1;33m\u001b[0m\u001b[0m\n\u001b[0;32m      4\u001b[0m     \u001b[0mprint\u001b[0m\u001b[1;33m(\u001b[0m\u001b[1;34m\"Expected Number of Spurious: \"\u001b[0m\u001b[1;33m,\u001b[0m \u001b[0margs\u001b[0m\u001b[1;33m.\u001b[0m\u001b[0mexpected_num_spurious\u001b[0m\u001b[1;33m)\u001b[0m\u001b[1;33m\u001b[0m\u001b[1;33m\u001b[0m\u001b[0m\n\u001b[1;32m----> 5\u001b[1;33m     \u001b[0mnumReal\u001b[0m\u001b[1;33m,\u001b[0m \u001b[0mnumSpurious\u001b[0m\u001b[1;33m,\u001b[0m \u001b[0mallNormalizedReal\u001b[0m\u001b[1;33m,\u001b[0m \u001b[0mallNormalizedSpurious\u001b[0m \u001b[1;33m=\u001b[0m \u001b[0mgetManySamples\u001b[0m\u001b[1;33m(\u001b[0m\u001b[0margs\u001b[0m\u001b[1;33m,\u001b[0m \u001b[1;36m1000\u001b[0m\u001b[1;33m)\u001b[0m\u001b[1;33m\u001b[0m\u001b[1;33m\u001b[0m\u001b[0m\n\u001b[0m\u001b[0;32m      6\u001b[0m     \u001b[0mgetStatsAndPlotCount\u001b[0m\u001b[1;33m(\u001b[0m\u001b[0mnumReal\u001b[0m\u001b[1;33m,\u001b[0m \u001b[0mnumSpurious\u001b[0m\u001b[1;33m,\u001b[0m \u001b[0max\u001b[0m\u001b[1;33m,\u001b[0m \u001b[0margs\u001b[0m\u001b[1;33m,\u001b[0m \u001b[0memissionColor\u001b[0m\u001b[1;33m,\u001b[0m \u001b[0mspuriousColor\u001b[0m\u001b[1;33m)\u001b[0m\u001b[1;33m\u001b[0m\u001b[1;33m\u001b[0m\u001b[0m\n\u001b[0;32m      7\u001b[0m     \u001b[0mgetStatsAndPlotNormalized\u001b[0m\u001b[1;33m(\u001b[0m\u001b[0mallNormalizedReal\u001b[0m\u001b[1;33m,\u001b[0m \u001b[0mallNormalizedSpurious\u001b[0m\u001b[1;33m,\u001b[0m \u001b[0max\u001b[0m\u001b[1;33m,\u001b[0m \u001b[0margs\u001b[0m\u001b[1;33m,\u001b[0m  \u001b[0memissionColor\u001b[0m\u001b[1;33m,\u001b[0m \u001b[0mspuriousColor\u001b[0m\u001b[1;33m)\u001b[0m\u001b[1;33m\u001b[0m\u001b[1;33m\u001b[0m\u001b[0m\n",
      "\u001b[1;32m<ipython-input-260-4b203877e25c>\u001b[0m in \u001b[0;36mgetManySamples\u001b[1;34m(args, number_of_samples)\u001b[0m\n\u001b[0;32m     10\u001b[0m \u001b[1;33m\u001b[0m\u001b[0m\n\u001b[0;32m     11\u001b[0m     \u001b[1;32mfor\u001b[0m \u001b[0mi\u001b[0m \u001b[1;32min\u001b[0m \u001b[0mrange\u001b[0m\u001b[1;33m(\u001b[0m\u001b[0mnumber_of_samples\u001b[0m\u001b[1;33m)\u001b[0m\u001b[1;33m:\u001b[0m\u001b[1;33m\u001b[0m\u001b[1;33m\u001b[0m\u001b[0m\n\u001b[1;32m---> 12\u001b[1;33m         \u001b[0misReal\u001b[0m\u001b[1;33m,\u001b[0m \u001b[0misSpurious\u001b[0m\u001b[1;33m,\u001b[0m \u001b[0mreal_observations\u001b[0m\u001b[1;33m,\u001b[0m \u001b[0mspurious_observations\u001b[0m \u001b[1;33m=\u001b[0m \u001b[0mmodel\u001b[0m\u001b[1;33m(\u001b[0m\u001b[0margs\u001b[0m\u001b[1;33m)\u001b[0m\u001b[1;33m\u001b[0m\u001b[1;33m\u001b[0m\u001b[0m\n\u001b[0m\u001b[0;32m     13\u001b[0m \u001b[1;33m\u001b[0m\u001b[0m\n\u001b[0;32m     14\u001b[0m         \u001b[0mnormalizedReal\u001b[0m \u001b[1;33m=\u001b[0m \u001b[0mnormalize_tensor\u001b[0m\u001b[1;33m(\u001b[0m\u001b[0mreal_observations\u001b[0m\u001b[1;33m)\u001b[0m\u001b[1;33m\u001b[0m\u001b[1;33m\u001b[0m\u001b[0m\n",
      "\u001b[1;32m<ipython-input-257-6c2e48d48e0d>\u001b[0m in \u001b[0;36mmodel\u001b[1;34m(args)\u001b[0m\n\u001b[0;32m     63\u001b[0m                 \u001b[0maugmented_positions\u001b[0m \u001b[1;33m=\u001b[0m \u001b[0mtorch\u001b[0m\u001b[1;33m.\u001b[0m\u001b[0mcat\u001b[0m\u001b[1;33m(\u001b[0m\u001b[1;33m[\u001b[0m\u001b[0mpositions\u001b[0m\u001b[1;33m,\u001b[0m \u001b[0mbogus_position\u001b[0m\u001b[1;33m]\u001b[0m\u001b[1;33m,\u001b[0m \u001b[1;33m-\u001b[0m\u001b[1;36m1\u001b[0m\u001b[1;33m)\u001b[0m\u001b[1;33m\u001b[0m\u001b[1;33m\u001b[0m\u001b[0m\n\u001b[0;32m     64\u001b[0m \u001b[1;33m\u001b[0m\u001b[0m\n\u001b[1;32m---> 65\u001b[1;33m                 \u001b[0mpredicted_positions\u001b[0m \u001b[1;33m=\u001b[0m \u001b[0mgather\u001b[0m\u001b[1;33m(\u001b[0m\u001b[0maugmented_positions\u001b[0m\u001b[1;33m,\u001b[0m \u001b[0massign\u001b[0m\u001b[1;33m,\u001b[0m \u001b[1;33m-\u001b[0m\u001b[1;36m1\u001b[0m\u001b[1;33m)\u001b[0m\u001b[1;33m\u001b[0m\u001b[1;33m\u001b[0m\u001b[0m\n\u001b[0m\u001b[0;32m     66\u001b[0m                 real = pyro.sample(\"real_observations\",\n\u001b[0;32m     67\u001b[0m                             dist.Normal(predicted_positions, args.emission_noise_scale))\n",
      "\u001b[1;32m~\\anaconda3\\envs\\Pyro\\lib\\site-packages\\pyro\\distributions\\util.py\u001b[0m in \u001b[0;36mgather\u001b[1;34m(value, index, dim)\u001b[0m\n\u001b[0;32m    196\u001b[0m     \u001b[0mBroadcasted\u001b[0m \u001b[0mgather\u001b[0m \u001b[0mof\u001b[0m \u001b[0mindexed\u001b[0m \u001b[0mvalues\u001b[0m \u001b[0malong\u001b[0m \u001b[0ma\u001b[0m \u001b[0mnamed\u001b[0m \u001b[0mdim\u001b[0m\u001b[1;33m.\u001b[0m\u001b[1;33m\u001b[0m\u001b[1;33m\u001b[0m\u001b[0m\n\u001b[0;32m    197\u001b[0m     \"\"\"\n\u001b[1;32m--> 198\u001b[1;33m     \u001b[0mvalue\u001b[0m\u001b[1;33m,\u001b[0m \u001b[0mindex\u001b[0m \u001b[1;33m=\u001b[0m \u001b[0mbroadcast_all\u001b[0m\u001b[1;33m(\u001b[0m\u001b[0mvalue\u001b[0m\u001b[1;33m,\u001b[0m \u001b[0mindex\u001b[0m\u001b[1;33m)\u001b[0m\u001b[1;33m\u001b[0m\u001b[1;33m\u001b[0m\u001b[0m\n\u001b[0m\u001b[0;32m    199\u001b[0m     \u001b[1;32mwith\u001b[0m \u001b[0mignore_jit_warnings\u001b[0m\u001b[1;33m(\u001b[0m\u001b[1;33m)\u001b[0m\u001b[1;33m:\u001b[0m\u001b[1;33m\u001b[0m\u001b[1;33m\u001b[0m\u001b[0m\n\u001b[0;32m    200\u001b[0m         \u001b[0mzero\u001b[0m \u001b[1;33m=\u001b[0m \u001b[0mtorch\u001b[0m\u001b[1;33m.\u001b[0m\u001b[0mzeros\u001b[0m\u001b[1;33m(\u001b[0m\u001b[1;36m1\u001b[0m\u001b[1;33m,\u001b[0m \u001b[0mdtype\u001b[0m\u001b[1;33m=\u001b[0m\u001b[0mtorch\u001b[0m\u001b[1;33m.\u001b[0m\u001b[0mlong\u001b[0m\u001b[1;33m,\u001b[0m \u001b[0mdevice\u001b[0m\u001b[1;33m=\u001b[0m\u001b[0mindex\u001b[0m\u001b[1;33m.\u001b[0m\u001b[0mdevice\u001b[0m\u001b[1;33m)\u001b[0m\u001b[1;33m\u001b[0m\u001b[1;33m\u001b[0m\u001b[0m\n",
      "\u001b[1;32m~\\anaconda3\\envs\\Pyro\\lib\\site-packages\\torch\\distributions\\utils.py\u001b[0m in \u001b[0;36mbroadcast_all\u001b[1;34m(*values)\u001b[0m\n\u001b[0;32m     38\u001b[0m                       for v in values]\n\u001b[0;32m     39\u001b[0m         \u001b[1;32mreturn\u001b[0m \u001b[0mtorch\u001b[0m\u001b[1;33m.\u001b[0m\u001b[0mbroadcast_tensors\u001b[0m\u001b[1;33m(\u001b[0m\u001b[1;33m*\u001b[0m\u001b[0mnew_values\u001b[0m\u001b[1;33m)\u001b[0m\u001b[1;33m\u001b[0m\u001b[1;33m\u001b[0m\u001b[0m\n\u001b[1;32m---> 40\u001b[1;33m     \u001b[1;32mreturn\u001b[0m \u001b[0mtorch\u001b[0m\u001b[1;33m.\u001b[0m\u001b[0mbroadcast_tensors\u001b[0m\u001b[1;33m(\u001b[0m\u001b[1;33m*\u001b[0m\u001b[0mvalues\u001b[0m\u001b[1;33m)\u001b[0m\u001b[1;33m\u001b[0m\u001b[1;33m\u001b[0m\u001b[0m\n\u001b[0m\u001b[0;32m     41\u001b[0m \u001b[1;33m\u001b[0m\u001b[0m\n\u001b[0;32m     42\u001b[0m \u001b[1;33m\u001b[0m\u001b[0m\n",
      "\u001b[1;32m~\\anaconda3\\envs\\Pyro\\lib\\site-packages\\torch\\functional.py\u001b[0m in \u001b[0;36mbroadcast_tensors\u001b[1;34m(*tensors)\u001b[0m\n\u001b[0;32m     72\u001b[0m     \u001b[1;32mif\u001b[0m \u001b[0mhas_torch_function\u001b[0m\u001b[1;33m(\u001b[0m\u001b[0mtensors\u001b[0m\u001b[1;33m)\u001b[0m\u001b[1;33m:\u001b[0m\u001b[1;33m\u001b[0m\u001b[1;33m\u001b[0m\u001b[0m\n\u001b[0;32m     73\u001b[0m         \u001b[1;32mreturn\u001b[0m \u001b[0mhandle_torch_function\u001b[0m\u001b[1;33m(\u001b[0m\u001b[0mbroadcast_tensors\u001b[0m\u001b[1;33m,\u001b[0m \u001b[0mtensors\u001b[0m\u001b[1;33m,\u001b[0m \u001b[1;33m*\u001b[0m\u001b[0mtensors\u001b[0m\u001b[1;33m)\u001b[0m\u001b[1;33m\u001b[0m\u001b[1;33m\u001b[0m\u001b[0m\n\u001b[1;32m---> 74\u001b[1;33m     \u001b[1;32mreturn\u001b[0m \u001b[0m_VF\u001b[0m\u001b[1;33m.\u001b[0m\u001b[0mbroadcast_tensors\u001b[0m\u001b[1;33m(\u001b[0m\u001b[0mtensors\u001b[0m\u001b[1;33m)\u001b[0m  \u001b[1;31m# type: ignore\u001b[0m\u001b[1;33m\u001b[0m\u001b[1;33m\u001b[0m\u001b[0m\n\u001b[0m\u001b[0;32m     75\u001b[0m \u001b[1;33m\u001b[0m\u001b[0m\n\u001b[0;32m     76\u001b[0m \u001b[1;33m\u001b[0m\u001b[0m\n",
      "\u001b[1;31mRuntimeError\u001b[0m: The size of tensor a (6) must match the size of tensor b (5) at non-singleton dimension 1"
     ]
    },
    {
     "data": {
      "image/png": "[encoded data removed]",
      "text/plain": [
       "<Figure size 432x288 with 2 Axes>"
      ]
     },
     "metadata": {
      "needs_background": "light"
     },
     "output_type": "display_data"
    }
   ],
   "source": [
    "\n",
    "def runPriorPredictiveChecks(args, ax, emissionColor, spuriousColor):\n",
    "    print(\"Running variation with: \")\n",
    "    print(\"Emission Probability: \", args.emission_prob)\n",
    "    print(\"Expected Number of Spurious: \", args.expected_num_spurious)\n",
    "    numReal, numSpurious, allNormalizedReal, allNormalizedSpurious = getManySamples(args, 1000)\n",
    "    getStatsAndPlotCount(numReal, numSpurious, ax, args, emissionColor, spuriousColor)\n",
    "    getStatsAndPlotNormalized(allNormalizedReal, allNormalizedSpurious, ax, args,  emissionColor, spuriousColor)\n",
    "    \n",
    "argsObj = Args()\n",
    "args = argsObj.get_default_args()\n",
    "args.num_dimensions = 2\n",
    "\n",
    "#set up plotting\n",
    "fig, ax = plt.subplots(1,2)\n",
    "ax[0].set_title('Total real vs spurious')\n",
    "ax[1].set_title('Probability real vs spurious')\n",
    "\n",
    "#run default arguments\n",
    "runPriorPredictiveChecks(args, ax, 1.0, 1.0)\n",
    "ax[0].legend(shadow=True, fancybox=True)\n",
    "ax[1].legend(shadow=True, fancybox=True)\n",
    "plt.show()"
   ]
  },
  {
   "cell_type": "code",
   "execution_count": 256,
   "id": "9811a070",
   "metadata": {},
   "outputs": [
    {
     "name": "stdout",
     "output_type": "stream",
     "text": [
      "Running variation with: \n",
      "Emission Probability:  0.4\n",
      "Expected Number of Spurious:  0.0\n"
     ]
    },
    {
     "ename": "ValueError",
     "evalue": "The parameter rate has invalid values",
     "output_type": "error",
     "traceback": [
      "\u001b[1;31m---------------------------------------------------------------------------\u001b[0m",
      "\u001b[1;31mValueError\u001b[0m                                Traceback (most recent call last)",
      "\u001b[1;32m<ipython-input-256-05cd4a7edf9c>\u001b[0m in \u001b[0;36m<module>\u001b[1;34m\u001b[0m\n\u001b[0;32m     19\u001b[0m         \u001b[0mspColor\u001b[0m \u001b[1;33m=\u001b[0m \u001b[0mspuriousColors\u001b[0m\u001b[1;33m[\u001b[0m\u001b[0mspCount\u001b[0m\u001b[1;33m]\u001b[0m\u001b[1;33m\u001b[0m\u001b[1;33m\u001b[0m\u001b[0m\n\u001b[0;32m     20\u001b[0m         \u001b[0margs\u001b[0m\u001b[1;33m.\u001b[0m\u001b[0mexpected_num_spurious\u001b[0m \u001b[1;33m=\u001b[0m \u001b[0msp\u001b[0m\u001b[1;33m\u001b[0m\u001b[1;33m\u001b[0m\u001b[0m\n\u001b[1;32m---> 21\u001b[1;33m         \u001b[0mrunPriorPredictiveChecks\u001b[0m\u001b[1;33m(\u001b[0m\u001b[0margs\u001b[0m\u001b[1;33m,\u001b[0m \u001b[0max\u001b[0m\u001b[1;33m,\u001b[0m \u001b[0memColor\u001b[0m\u001b[1;33m,\u001b[0m \u001b[0mspColor\u001b[0m\u001b[1;33m)\u001b[0m\u001b[1;33m\u001b[0m\u001b[1;33m\u001b[0m\u001b[0m\n\u001b[0m\u001b[0;32m     22\u001b[0m         \u001b[0mspCount\u001b[0m \u001b[1;33m=\u001b[0m \u001b[0mspCount\u001b[0m \u001b[1;33m+\u001b[0m \u001b[1;36m1\u001b[0m\u001b[1;33m\u001b[0m\u001b[1;33m\u001b[0m\u001b[0m\n\u001b[0;32m     23\u001b[0m     \u001b[0memCount\u001b[0m \u001b[1;33m=\u001b[0m \u001b[0memCount\u001b[0m \u001b[1;33m+\u001b[0m \u001b[1;36m1\u001b[0m\u001b[1;33m\u001b[0m\u001b[1;33m\u001b[0m\u001b[0m\n",
      "\u001b[1;32m<ipython-input-255-0c1b26702031>\u001b[0m in \u001b[0;36mrunPriorPredictiveChecks\u001b[1;34m(args, ax, emissionColor, spuriousColor)\u001b[0m\n\u001b[0;32m      3\u001b[0m     \u001b[0mprint\u001b[0m\u001b[1;33m(\u001b[0m\u001b[1;34m\"Emission Probability: \"\u001b[0m\u001b[1;33m,\u001b[0m \u001b[0margs\u001b[0m\u001b[1;33m.\u001b[0m\u001b[0memission_prob\u001b[0m\u001b[1;33m)\u001b[0m\u001b[1;33m\u001b[0m\u001b[1;33m\u001b[0m\u001b[0m\n\u001b[0;32m      4\u001b[0m     \u001b[0mprint\u001b[0m\u001b[1;33m(\u001b[0m\u001b[1;34m\"Expected Number of Spurious: \"\u001b[0m\u001b[1;33m,\u001b[0m \u001b[0margs\u001b[0m\u001b[1;33m.\u001b[0m\u001b[0mexpected_num_spurious\u001b[0m\u001b[1;33m)\u001b[0m\u001b[1;33m\u001b[0m\u001b[1;33m\u001b[0m\u001b[0m\n\u001b[1;32m----> 5\u001b[1;33m     \u001b[0mnumReal\u001b[0m\u001b[1;33m,\u001b[0m \u001b[0mnumSpurious\u001b[0m\u001b[1;33m,\u001b[0m \u001b[0mallNormalizedReal\u001b[0m\u001b[1;33m,\u001b[0m \u001b[0mallNormalizedSpurious\u001b[0m \u001b[1;33m=\u001b[0m \u001b[0mgetManySamples\u001b[0m\u001b[1;33m(\u001b[0m\u001b[0margs\u001b[0m\u001b[1;33m,\u001b[0m \u001b[1;36m1000\u001b[0m\u001b[1;33m)\u001b[0m\u001b[1;33m\u001b[0m\u001b[1;33m\u001b[0m\u001b[0m\n\u001b[0m\u001b[0;32m      6\u001b[0m     \u001b[0mgetStatsAndPlotCount\u001b[0m\u001b[1;33m(\u001b[0m\u001b[0mnumReal\u001b[0m\u001b[1;33m,\u001b[0m \u001b[0mnumSpurious\u001b[0m\u001b[1;33m,\u001b[0m \u001b[0max\u001b[0m\u001b[1;33m,\u001b[0m \u001b[0margs\u001b[0m\u001b[1;33m,\u001b[0m \u001b[0memissionColor\u001b[0m\u001b[1;33m,\u001b[0m \u001b[0mspuriousColor\u001b[0m\u001b[1;33m)\u001b[0m\u001b[1;33m\u001b[0m\u001b[1;33m\u001b[0m\u001b[0m\n\u001b[0;32m      7\u001b[0m     \u001b[0mgetStatsAndPlotNormalized\u001b[0m\u001b[1;33m(\u001b[0m\u001b[0mallNormalizedReal\u001b[0m\u001b[1;33m,\u001b[0m \u001b[0mallNormalizedSpurious\u001b[0m\u001b[1;33m,\u001b[0m \u001b[0max\u001b[0m\u001b[1;33m,\u001b[0m \u001b[0margs\u001b[0m\u001b[1;33m,\u001b[0m  \u001b[0memissionColor\u001b[0m\u001b[1;33m,\u001b[0m \u001b[0mspuriousColor\u001b[0m\u001b[1;33m)\u001b[0m\u001b[1;33m\u001b[0m\u001b[1;33m\u001b[0m\u001b[0m\n",
      "\u001b[1;32m<ipython-input-244-26ba46f92686>\u001b[0m in \u001b[0;36mgetManySamples\u001b[1;34m(args, number_of_samples)\u001b[0m\n\u001b[0;32m     10\u001b[0m \u001b[1;33m\u001b[0m\u001b[0m\n\u001b[0;32m     11\u001b[0m     \u001b[1;32mfor\u001b[0m \u001b[0mi\u001b[0m \u001b[1;32min\u001b[0m \u001b[0mrange\u001b[0m\u001b[1;33m(\u001b[0m\u001b[0mnumber_of_samples\u001b[0m\u001b[1;33m)\u001b[0m\u001b[1;33m:\u001b[0m\u001b[1;33m\u001b[0m\u001b[1;33m\u001b[0m\u001b[0m\n\u001b[1;32m---> 12\u001b[1;33m         \u001b[0misReal\u001b[0m\u001b[1;33m,\u001b[0m \u001b[0misSpurious\u001b[0m\u001b[1;33m,\u001b[0m \u001b[0mreal_observations\u001b[0m\u001b[1;33m,\u001b[0m \u001b[0mspurious_observations\u001b[0m \u001b[1;33m=\u001b[0m \u001b[0mmodel\u001b[0m\u001b[1;33m(\u001b[0m\u001b[0margs\u001b[0m\u001b[1;33m)\u001b[0m\u001b[1;33m\u001b[0m\u001b[1;33m\u001b[0m\u001b[0m\n\u001b[0m\u001b[0;32m     13\u001b[0m \u001b[1;33m\u001b[0m\u001b[0m\n\u001b[0;32m     14\u001b[0m         \u001b[0mnormalizedReal\u001b[0m \u001b[1;33m=\u001b[0m \u001b[0mnormalize_tensor\u001b[0m\u001b[1;33m(\u001b[0m\u001b[0mreal_observations\u001b[0m\u001b[1;33m)\u001b[0m\u001b[1;33m\u001b[0m\u001b[1;33m\u001b[0m\u001b[0m\n",
      "\u001b[1;32m<ipython-input-236-6c2e48d48e0d>\u001b[0m in \u001b[0;36mmodel\u001b[1;34m(args)\u001b[0m\n\u001b[0;32m      8\u001b[0m     \u001b[1;32mwith\u001b[0m \u001b[0mpyro\u001b[0m\u001b[1;33m.\u001b[0m\u001b[0mplate\u001b[0m\u001b[1;33m(\u001b[0m\u001b[1;34m\"detections\"\u001b[0m\u001b[1;33m,\u001b[0m \u001b[0margs\u001b[0m\u001b[1;33m.\u001b[0m\u001b[0mexpected_num_objects\u001b[0m\u001b[1;33m)\u001b[0m\u001b[1;33m:\u001b[0m\u001b[1;33m\u001b[0m\u001b[1;33m\u001b[0m\u001b[0m\n\u001b[0;32m      9\u001b[0m         \u001b[1;32mwith\u001b[0m \u001b[0mpyro\u001b[0m\u001b[1;33m.\u001b[0m\u001b[0mplate\u001b[0m\u001b[1;33m(\u001b[0m\u001b[1;34m\"time\"\u001b[0m\u001b[1;33m,\u001b[0m \u001b[0margs\u001b[0m\u001b[1;33m.\u001b[0m\u001b[0mnum_frames\u001b[0m\u001b[1;33m)\u001b[0m\u001b[1;33m:\u001b[0m\u001b[1;33m\u001b[0m\u001b[1;33m\u001b[0m\u001b[0m\n\u001b[1;32m---> 10\u001b[1;33m             \u001b[0mspurious\u001b[0m \u001b[1;33m=\u001b[0m \u001b[0mdist\u001b[0m\u001b[1;33m.\u001b[0m\u001b[0mPoisson\u001b[0m\u001b[1;33m(\u001b[0m\u001b[0margs\u001b[0m\u001b[1;33m.\u001b[0m\u001b[0mexpected_num_spurious\u001b[0m\u001b[1;33m)\u001b[0m\u001b[1;33m.\u001b[0m\u001b[0msample\u001b[0m\u001b[1;33m(\u001b[0m\u001b[1;33m(\u001b[0m\u001b[0margs\u001b[0m\u001b[1;33m.\u001b[0m\u001b[0mnum_frames\u001b[0m\u001b[1;33m,\u001b[0m\u001b[1;36m1\u001b[0m\u001b[1;33m)\u001b[0m\u001b[1;33m)\u001b[0m\u001b[1;33m\u001b[0m\u001b[1;33m\u001b[0m\u001b[0m\n\u001b[0m\u001b[0;32m     11\u001b[0m             \u001b[0memitted\u001b[0m \u001b[1;33m=\u001b[0m \u001b[0mdist\u001b[0m\u001b[1;33m.\u001b[0m\u001b[0mBernoulli\u001b[0m\u001b[1;33m(\u001b[0m\u001b[0margs\u001b[0m\u001b[1;33m.\u001b[0m\u001b[0memission_prob\u001b[0m\u001b[1;33m)\u001b[0m\u001b[1;33m.\u001b[0m\u001b[0msample\u001b[0m\u001b[1;33m(\u001b[0m\u001b[1;33m(\u001b[0m\u001b[0mint\u001b[0m\u001b[1;33m(\u001b[0m\u001b[0margs\u001b[0m\u001b[1;33m.\u001b[0m\u001b[0mnum_frames\u001b[0m\u001b[1;33m)\u001b[0m\u001b[1;33m,\u001b[0m \u001b[0mint\u001b[0m\u001b[1;33m(\u001b[0m\u001b[0margs\u001b[0m\u001b[1;33m.\u001b[0m\u001b[0mexpected_num_objects\u001b[0m\u001b[1;33m)\u001b[0m\u001b[1;33m)\u001b[0m\u001b[1;33m)\u001b[0m\u001b[1;33m\u001b[0m\u001b[1;33m\u001b[0m\u001b[0m\n\u001b[0;32m     12\u001b[0m \u001b[1;33m\u001b[0m\u001b[0m\n",
      "\u001b[1;32m~\\anaconda3\\envs\\Pyro\\lib\\site-packages\\pyro\\distributions\\distribution.py\u001b[0m in \u001b[0;36m__call__\u001b[1;34m(cls, *args, **kwargs)\u001b[0m\n\u001b[0;32m     16\u001b[0m             \u001b[1;32mif\u001b[0m \u001b[0mresult\u001b[0m \u001b[1;32mis\u001b[0m \u001b[1;32mnot\u001b[0m \u001b[1;32mNone\u001b[0m\u001b[1;33m:\u001b[0m\u001b[1;33m\u001b[0m\u001b[1;33m\u001b[0m\u001b[0m\n\u001b[0;32m     17\u001b[0m                 \u001b[1;32mreturn\u001b[0m \u001b[0mresult\u001b[0m\u001b[1;33m\u001b[0m\u001b[1;33m\u001b[0m\u001b[0m\n\u001b[1;32m---> 18\u001b[1;33m         \u001b[1;32mreturn\u001b[0m \u001b[0msuper\u001b[0m\u001b[1;33m(\u001b[0m\u001b[1;33m)\u001b[0m\u001b[1;33m.\u001b[0m\u001b[0m__call__\u001b[0m\u001b[1;33m(\u001b[0m\u001b[1;33m*\u001b[0m\u001b[0margs\u001b[0m\u001b[1;33m,\u001b[0m \u001b[1;33m**\u001b[0m\u001b[0mkwargs\u001b[0m\u001b[1;33m)\u001b[0m\u001b[1;33m\u001b[0m\u001b[1;33m\u001b[0m\u001b[0m\n\u001b[0m\u001b[0;32m     19\u001b[0m \u001b[1;33m\u001b[0m\u001b[0m\n\u001b[0;32m     20\u001b[0m     \u001b[1;33m@\u001b[0m\u001b[0mproperty\u001b[0m\u001b[1;33m\u001b[0m\u001b[1;33m\u001b[0m\u001b[0m\n",
      "\u001b[1;32m~\\anaconda3\\envs\\Pyro\\lib\\site-packages\\pyro\\distributions\\torch.py\u001b[0m in \u001b[0;36m__init__\u001b[1;34m(self, rate, is_sparse, validate_args)\u001b[0m\n\u001b[0;32m    251\u001b[0m     \u001b[1;32mdef\u001b[0m \u001b[0m__init__\u001b[0m\u001b[1;33m(\u001b[0m\u001b[0mself\u001b[0m\u001b[1;33m,\u001b[0m \u001b[0mrate\u001b[0m\u001b[1;33m,\u001b[0m \u001b[1;33m*\u001b[0m\u001b[1;33m,\u001b[0m \u001b[0mis_sparse\u001b[0m\u001b[1;33m=\u001b[0m\u001b[1;32mFalse\u001b[0m\u001b[1;33m,\u001b[0m \u001b[0mvalidate_args\u001b[0m\u001b[1;33m=\u001b[0m\u001b[1;32mNone\u001b[0m\u001b[1;33m)\u001b[0m\u001b[1;33m:\u001b[0m\u001b[1;33m\u001b[0m\u001b[1;33m\u001b[0m\u001b[0m\n\u001b[0;32m    252\u001b[0m         \u001b[0mself\u001b[0m\u001b[1;33m.\u001b[0m\u001b[0mis_sparse\u001b[0m \u001b[1;33m=\u001b[0m \u001b[0mis_sparse\u001b[0m\u001b[1;33m\u001b[0m\u001b[1;33m\u001b[0m\u001b[0m\n\u001b[1;32m--> 253\u001b[1;33m         \u001b[0msuper\u001b[0m\u001b[1;33m(\u001b[0m\u001b[1;33m)\u001b[0m\u001b[1;33m.\u001b[0m\u001b[0m__init__\u001b[0m\u001b[1;33m(\u001b[0m\u001b[0mrate\u001b[0m\u001b[1;33m,\u001b[0m \u001b[0mvalidate_args\u001b[0m\u001b[1;33m=\u001b[0m\u001b[0mvalidate_args\u001b[0m\u001b[1;33m)\u001b[0m\u001b[1;33m\u001b[0m\u001b[1;33m\u001b[0m\u001b[0m\n\u001b[0m\u001b[0;32m    254\u001b[0m \u001b[1;33m\u001b[0m\u001b[0m\n\u001b[0;32m    255\u001b[0m     \u001b[1;32mdef\u001b[0m \u001b[0mexpand\u001b[0m\u001b[1;33m(\u001b[0m\u001b[0mself\u001b[0m\u001b[1;33m,\u001b[0m \u001b[0mbatch_shape\u001b[0m\u001b[1;33m,\u001b[0m \u001b[0m_instance\u001b[0m\u001b[1;33m=\u001b[0m\u001b[1;32mNone\u001b[0m\u001b[1;33m)\u001b[0m\u001b[1;33m:\u001b[0m\u001b[1;33m\u001b[0m\u001b[1;33m\u001b[0m\u001b[0m\n",
      "\u001b[1;32m~\\anaconda3\\envs\\Pyro\\lib\\site-packages\\torch\\distributions\\poisson.py\u001b[0m in \u001b[0;36m__init__\u001b[1;34m(self, rate, validate_args)\u001b[0m\n\u001b[0;32m     42\u001b[0m         \u001b[1;32melse\u001b[0m\u001b[1;33m:\u001b[0m\u001b[1;33m\u001b[0m\u001b[1;33m\u001b[0m\u001b[0m\n\u001b[0;32m     43\u001b[0m             \u001b[0mbatch_shape\u001b[0m \u001b[1;33m=\u001b[0m \u001b[0mself\u001b[0m\u001b[1;33m.\u001b[0m\u001b[0mrate\u001b[0m\u001b[1;33m.\u001b[0m\u001b[0msize\u001b[0m\u001b[1;33m(\u001b[0m\u001b[1;33m)\u001b[0m\u001b[1;33m\u001b[0m\u001b[1;33m\u001b[0m\u001b[0m\n\u001b[1;32m---> 44\u001b[1;33m         \u001b[0msuper\u001b[0m\u001b[1;33m(\u001b[0m\u001b[0mPoisson\u001b[0m\u001b[1;33m,\u001b[0m \u001b[0mself\u001b[0m\u001b[1;33m)\u001b[0m\u001b[1;33m.\u001b[0m\u001b[0m__init__\u001b[0m\u001b[1;33m(\u001b[0m\u001b[0mbatch_shape\u001b[0m\u001b[1;33m,\u001b[0m \u001b[0mvalidate_args\u001b[0m\u001b[1;33m=\u001b[0m\u001b[0mvalidate_args\u001b[0m\u001b[1;33m)\u001b[0m\u001b[1;33m\u001b[0m\u001b[1;33m\u001b[0m\u001b[0m\n\u001b[0m\u001b[0;32m     45\u001b[0m \u001b[1;33m\u001b[0m\u001b[0m\n\u001b[0;32m     46\u001b[0m     \u001b[1;32mdef\u001b[0m \u001b[0mexpand\u001b[0m\u001b[1;33m(\u001b[0m\u001b[0mself\u001b[0m\u001b[1;33m,\u001b[0m \u001b[0mbatch_shape\u001b[0m\u001b[1;33m,\u001b[0m \u001b[0m_instance\u001b[0m\u001b[1;33m=\u001b[0m\u001b[1;32mNone\u001b[0m\u001b[1;33m)\u001b[0m\u001b[1;33m:\u001b[0m\u001b[1;33m\u001b[0m\u001b[1;33m\u001b[0m\u001b[0m\n",
      "\u001b[1;32m~\\anaconda3\\envs\\Pyro\\lib\\site-packages\\torch\\distributions\\distribution.py\u001b[0m in \u001b[0;36m__init__\u001b[1;34m(self, batch_shape, event_shape, validate_args)\u001b[0m\n\u001b[0;32m     51\u001b[0m                     \u001b[1;32mcontinue\u001b[0m  \u001b[1;31m# skip checking lazily-constructed args\u001b[0m\u001b[1;33m\u001b[0m\u001b[1;33m\u001b[0m\u001b[0m\n\u001b[0;32m     52\u001b[0m                 \u001b[1;32mif\u001b[0m \u001b[1;32mnot\u001b[0m \u001b[0mconstraint\u001b[0m\u001b[1;33m.\u001b[0m\u001b[0mcheck\u001b[0m\u001b[1;33m(\u001b[0m\u001b[0mgetattr\u001b[0m\u001b[1;33m(\u001b[0m\u001b[0mself\u001b[0m\u001b[1;33m,\u001b[0m \u001b[0mparam\u001b[0m\u001b[1;33m)\u001b[0m\u001b[1;33m)\u001b[0m\u001b[1;33m.\u001b[0m\u001b[0mall\u001b[0m\u001b[1;33m(\u001b[0m\u001b[1;33m)\u001b[0m\u001b[1;33m:\u001b[0m\u001b[1;33m\u001b[0m\u001b[1;33m\u001b[0m\u001b[0m\n\u001b[1;32m---> 53\u001b[1;33m                     \u001b[1;32mraise\u001b[0m \u001b[0mValueError\u001b[0m\u001b[1;33m(\u001b[0m\u001b[1;34m\"The parameter {} has invalid values\"\u001b[0m\u001b[1;33m.\u001b[0m\u001b[0mformat\u001b[0m\u001b[1;33m(\u001b[0m\u001b[0mparam\u001b[0m\u001b[1;33m)\u001b[0m\u001b[1;33m)\u001b[0m\u001b[1;33m\u001b[0m\u001b[1;33m\u001b[0m\u001b[0m\n\u001b[0m\u001b[0;32m     54\u001b[0m         \u001b[0msuper\u001b[0m\u001b[1;33m(\u001b[0m\u001b[0mDistribution\u001b[0m\u001b[1;33m,\u001b[0m \u001b[0mself\u001b[0m\u001b[1;33m)\u001b[0m\u001b[1;33m.\u001b[0m\u001b[0m__init__\u001b[0m\u001b[1;33m(\u001b[0m\u001b[1;33m)\u001b[0m\u001b[1;33m\u001b[0m\u001b[1;33m\u001b[0m\u001b[0m\n\u001b[0;32m     55\u001b[0m \u001b[1;33m\u001b[0m\u001b[0m\n",
      "\u001b[1;31mValueError\u001b[0m: The parameter rate has invalid values"
     ]
    },
    {
     "data": {
      "image/png": "[encoded data removed]",
      "text/plain": [
       "<Figure size 432x288 with 2 Axes>"
      ]
     },
     "metadata": {
      "needs_background": "light"
     },
     "output_type": "display_data"
    }
   ],
   "source": [
    "#run the variation changing the emission probability and the expected number of spurious observations\n",
    "emissionProbs = [0.4, 0.6, 0.8, 1.0]\n",
    "expectedSpurious = [0., 1., 2.]\n",
    "\n",
    "emissionColors = [0.25, 0.5, 0.75, 1.0]\n",
    "spuriousColors = [0.33, 0.66, 1.0]\n",
    "\n",
    "#set up plotting\n",
    "fig, ax = plt.subplots(1,2)\n",
    "ax[0].set_title('Total real vs spurious')\n",
    "ax[1].set_title('Probability real vs spurious')\n",
    "\n",
    "#setting initial args, but we'll be overwriting two of them through the loop\n",
    "argsObj = Args()\n",
    "args = argsObj.get_default_args()\n",
    "args.num_dimensions = 2\n",
    "\n",
    "emCount = 0\n",
    "spCount = 0\n",
    "for em in emissionProbs:\n",
    "    args.emission_prob = em\n",
    "    emColor = emissionColors[emCount]\n",
    "    for sp in expectedSpurious:\n",
    "        spColor = spuriousColors[spCount]\n",
    "        args.expected_num_spurious = sp\n",
    "        runPriorPredictiveChecks(args, ax, emColor, spColor)\n",
    "        spCount = spCount + 1\n",
    "    emCount = emCount + 1\n",
    "\n",
    "ax[0].legend(shadow=True, fancybox=True)\n",
    "ax[1].legend(shadow=True, fancybox=True)\n",
    "plt.show()"
   ]
  },
  {
   "cell_type": "code",
   "execution_count": null,
   "id": "c6a23cbd",
   "metadata": {},
   "outputs": [],
   "source": []
  }
 ],
 "metadata": {
  "kernelspec": {
   "display_name": "Python 3",
   "language": "python",
   "name": "python3"
  },
  "language_info": {
   "codemirror_mode": {
    "name": "ipython",
    "version": 3
   },
   "file_extension": ".py",
   "mimetype": "text/x-python",
   "name": "python",
   "nbconvert_exporter": "python",
   "pygments_lexer": "ipython3",
   "version": "3.8.10"
  }
 },
 "nbformat": 4,
 "nbformat_minor": 5
}
