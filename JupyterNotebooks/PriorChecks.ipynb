{
 "cells": [
  {
   "cell_type": "markdown",
   "id": "eaa86877",
   "metadata": {},
   "source": [
    "<h1>Data Analysis</h1>\n",
    "<h2>Generative Data</h2>\n",
    "This page is for analysis of the data and analysis of the model. First, we'll look at the distributions of the different components of data generation. First, we'll load the imports and Data Generator before we plot the distributions of each data generator component. "
   ]
  },
  {
   "cell_type": "code",
   "execution_count": 3,
   "id": "ef92ab48",
   "metadata": {},
   "outputs": [],
   "source": [
    "import math\n",
    "import os\n",
    "import torch\n",
    "from torch.distributions import constraints\n",
    "from matplotlib import pyplot\n",
    "\n",
    "import pyro\n",
    "import pyro.distributions as dist\n",
    "import pyro.poutine as poutine\n",
    "from pyro.contrib.tracking.assignment import MarginalAssignmentPersistent\n",
    "from pyro.distributions.util import gather\n",
    "from pyro.infer import SVI, TraceEnum_ELBO\n",
    "from pyro.optim import Adam\n",
    "import numpy as np\n",
    "import enum\n",
    "\n",
    "import os\n",
    "os.environ[\"KMP_DUPLICATE_LIB_OK\"]=\"TRUE\"\n",
    "\n",
    "assert pyro.__version__.startswith('1.7.0')\n",
    "\n",
    "class MovementType(enum.Enum):\n",
    "    Sinusoidal = 1\n",
    "    Linear2D = 2\n",
    "    Linear3D = 3\n",
    "\n",
    "class Args:\n",
    "    def __init__(self):\n",
    "        self.args = self.get_default_args()\n",
    "\n",
    "    def get_default_args(self):\n",
    "        self.num_frames = 5\n",
    "        self.max_num_objects = 4\n",
    "        self.expected_num_objects = 3.\n",
    "        self.expected_num_spurious = 1.\n",
    "        self.emission_prob = 0.8\n",
    "        self.emission_noise_scale = 0.1 \n",
    "        assert self.max_num_objects >= self.expected_num_objects\n",
    "        return self \n",
    "\n",
    "    def get_prior_predictive_checks_args(self):\n",
    "        self.num_frames = 5\n",
    "        self.expected_num_objects = int(dist.Uniform(1, 5).sample())\n",
    "        self.expected_num_spurious = float(int(dist.Uniform(1,3).sample()))\n",
    "        self.max_num_objects = int(self.expected_num_objects + self.expected_num_spurious)\n",
    "        self.emission_prob = max(0,min(1,abs((dist.Normal(0., 1.).rsample() + 3.)/4.))) #aiming for between [0.5,1.0]\n",
    "        self.emission_noise_scale = max(0,min(1,abs((dist.Normal(0., 1.).rsample() + 2.)/4.))) #aiming for between [0.0,0.5]\n",
    "        assert self.max_num_objects >= self.expected_num_objects\n",
    "        print(\"Predictive check args. Num objects: \", self.expected_num_objects, \" Num spurious: \", self.expected_num_spurious)\n",
    "        print(\"Emission prob: \", self.emission_prob, \" Noise scale: \", self.emission_noise_scale)\n",
    "        return self\n",
    "\n",
    "\n",
    "class DataGenerator:\n",
    "    def __init__(self, movementType):\n",
    "        print(\"Initializing DataGenerator with movement type \", movementType)\n",
    "        self.movementType = movementType\n",
    "        if self.movementType == MovementType.Sinusoidal:\n",
    "            self.numDimensions = 2\n",
    "        elif self.movementType == MovementType.Linear2D:\n",
    "            self.numDimensions = 2\n",
    "        elif self.movementType == MovementType.Linear3D:\n",
    "            self.numDimensions = 3\n",
    "        else:\n",
    "            print(\"Error! Don't recognize movement type! \", self.movementType)\n",
    "\n",
    "    def get_dynamics(self, num_frames):\n",
    "        if self.movementType == MovementType.Sinusoidal:\n",
    "            time = torch.arange(float(num_frames)) / (num_frames - 1)\n",
    "            dynamics = torch.stack([time.cos(), time.sin()], -1)\n",
    "        elif self.movementType == MovementType.Linear2D:\n",
    "            x = torch.arange(float(num_frames)) / (num_frames - 1)\n",
    "            y = torch.arange(float(num_frames)) / (num_frames - 1)\n",
    "            dynamics = torch.stack([x, y], -1)\n",
    "        elif self.movementType == MovementType.Linear3D:\n",
    "            x = torch.arange(float(num_frames)) / (num_frames - 1)\n",
    "            y = torch.arange(float(num_frames)) / (num_frames - 1)\n",
    "            z = torch.arange(float(num_frames)) / (num_frames - 1)\n",
    "            dynamics = torch.stack([x, y, z], -1)\n",
    "        else:\n",
    "            print(\"Error! Don't recognize movement type! \", self.movementType)\n",
    "\n",
    "        return dynamics"
   ]
  },
  {
   "cell_type": "markdown",
   "id": "47cf991b",
   "metadata": {},
   "source": [
    "<h3>Position Distribution</h3>\n",
    "The first distribution we will look at is the position distribution for a single object. "
   ]
  },
  {
   "cell_type": "code",
   "execution_count": 37,
   "id": "1d6da829",
   "metadata": {},
   "outputs": [
    {
     "name": "stdout",
     "output_type": "stream",
     "text": [
      "Initializing DataGenerator with movement type  MovementType.Linear2D\n",
      "torch.Size([50, 1])\n",
      "torch.Size([50, 1])\n",
      "torch.Size([100, 1])\n",
      "tensor([[-0.4400,  1.1277]])\n"
     ]
    },
    {
     "data": {
      "text/plain": [
       "<matplotlib.collections.PathCollection at 0x14248bfa520>"
      ]
     },
     "execution_count": 37,
     "metadata": {},
     "output_type": "execute_result"
    },
    {
     "data": {
      "image/png": "[encoded data removed]",
      "text/plain": [
       "<Figure size 432x288 with 1 Axes>"
      ]
     },
     "metadata": {
      "needs_background": "light"
     },
     "output_type": "display_data"
    }
   ],
   "source": [
    "import matplotlib.pyplot as plt\n",
    "%matplotlib inline\n",
    "\n",
    "argsObj = Args()\n",
    "args = argsObj.get_default_args()\n",
    "args.num_frames = 100\n",
    "args.expected_num_objects = 1\n",
    "args.max_num_objects = 2\n",
    "\n",
    "#assume linear 2D motion\n",
    "num_dimensions = 2\n",
    "dataGenerator = DataGenerator(MovementType.Linear2D)\n",
    "num_objects = int(round(args.expected_num_objects))  \n",
    "states = dist.Normal(0., 1.).sample((num_objects, num_dimensions))\n",
    "dynamics = dataGenerator.get_dynamics(args.num_frames)\n",
    "positions = dynamics.mm(states.t())\n",
    "\n",
    "x = positions[:50]\n",
    "y = positions[50:]\n",
    "print(y.shape)\n",
    "print(x.shape)\n",
    "print(positions.shape)\n",
    "print(states)\n",
    "\n",
    "plt.scatter(x,y)"
   ]
  },
  {
   "cell_type": "markdown",
   "id": "5812e097",
   "metadata": {},
   "source": [
    "Next, we will look at multiple objects. This shows that any trajectory with the offset we're using still passes through the center. If we wanted we could add an additional offset, as there will be association confusion when passing through the center. "
   ]
  },
  {
   "cell_type": "code",
   "execution_count": 49,
   "id": "4df2e632",
   "metadata": {},
   "outputs": [
    {
     "name": "stdout",
     "output_type": "stream",
     "text": [
      "Initializing DataGenerator with movement type  MovementType.Linear2D\n",
      "torch.Size([50, 80])\n",
      "torch.Size([50, 80])\n",
      "torch.Size([100, 80])\n"
     ]
    },
    {
     "data": {
      "text/plain": [
       "Text(0.5, 1.0, 'No offset')"
      ]
     },
     "execution_count": 49,
     "metadata": {},
     "output_type": "execute_result"
    },
    {
     "data": {
      "image/png": "[encoded data removed]",
      "text/plain": [
       "<Figure size 432x288 with 1 Axes>"
      ]
     },
     "metadata": {
      "needs_background": "light"
     },
     "output_type": "display_data"
    }
   ],
   "source": [
    "argsObj = Args()\n",
    "args = argsObj.get_default_args()\n",
    "args.num_frames = 100\n",
    "args.expected_num_objects = 80\n",
    "args.max_num_objects = 101\n",
    "\n",
    "#assume linear 2D motion\n",
    "num_dimensions = 2\n",
    "dataGenerator = DataGenerator(MovementType.Linear2D)\n",
    "num_objects = int(round(args.expected_num_objects))  \n",
    "states = dist.Normal(0., 1.).sample((num_objects, num_dimensions))\n",
    "dynamics = dataGenerator.get_dynamics(args.num_frames)\n",
    "positions = dynamics.mm(states.t())\n",
    "\n",
    "x = positions[:50]\n",
    "y = positions[50:]\n",
    "print(y.shape)\n",
    "print(x.shape)\n",
    "print(positions.shape)\n",
    "#print(states)\n",
    "\n",
    "plt.scatter(x,y,cmap='jet')\n",
    "plt.title(\"No offset\")"
   ]
  },
  {
   "cell_type": "markdown",
   "id": "90deccbf",
   "metadata": {},
   "source": [
    "Now I add an offset, and I'll plot a few lines so we can see them over the distribution."
   ]
  },
  {
   "cell_type": "code",
   "execution_count": 69,
   "id": "44ec7927",
   "metadata": {},
   "outputs": [
    {
     "name": "stdout",
     "output_type": "stream",
     "text": [
      "torch.Size([100, 80])\n",
      "torch.Size([80, 1])\n"
     ]
    },
    {
     "data": {
      "text/plain": [
       "Text(0.5, 1.0, 'With offset')"
      ]
     },
     "execution_count": 69,
     "metadata": {},
     "output_type": "execute_result"
    },
    {
     "data": {
      "image/png": "[encoded data removed]",
      "text/plain": [
       "<Figure size 432x288 with 1 Axes>"
      ]
     },
     "metadata": {
      "needs_background": "light"
     },
     "output_type": "display_data"
    }
   ],
   "source": [
    "offsets = dist.Uniform(0., 1.).sample((args.expected_num_objects,1))\n",
    "dynamics = dataGenerator.get_dynamics(args.num_frames)\n",
    "states = dist.Normal(0., 1.).sample((num_objects, num_dimensions))\n",
    "positions = dynamics.mm(states.t())\n",
    "positions = positions + offsets.t()\n",
    "\n",
    "print(positions.shape)\n",
    "print(offsets.shape)\n",
    "\n",
    "x = positions[:50]\n",
    "y = positions[50:]\n",
    "\n",
    "\n",
    "plt.scatter(x,y,cmap='jet')\n",
    "plt.plot(x[:,0],y[:,0],c='r')\n",
    "plt.plot(x[:,30],y[:,30],c='r')\n",
    "plt.plot(x[:,50],y[:,50],c='r')\n",
    "plt.title(\"With offset\")"
   ]
  },
  {
   "cell_type": "markdown",
   "id": "a1f57ebf",
   "metadata": {},
   "source": [
    "X and Y states need to be separated"
   ]
  },
  {
   "cell_type": "markdown",
   "id": "917f87e8",
   "metadata": {},
   "source": [
    "<h2>Prior Predictive Checks</h2>"
   ]
  },
  {
   "cell_type": "markdown",
   "id": "39971ce9",
   "metadata": {},
   "source": []
  },
  {
   "cell_type": "code",
   "execution_count": 176,
   "id": "db8ef671",
   "metadata": {},
   "outputs": [],
   "source": [
    "def model(args):\n",
    "    with pyro.plate(\"objects\", args.max_num_objects):\n",
    "        exists = pyro.sample(\"exists\",\n",
    "                            dist.Bernoulli(args.expected_num_objects / args.max_num_objects))\n",
    "        with poutine.mask(mask=exists.bool()):\n",
    "            states = pyro.sample(\"states\", dist.Normal(0., 1.).expand([args.num_dimensions]).to_event(1))\n",
    "            positions = dataGenerator.get_dynamics(args.num_frames).mm(states.t())\n",
    "    with pyro.plate(\"detections\", args.expected_num_objects):\n",
    "        with pyro.plate(\"time\", args.num_frames):\n",
    "            # The combinatorial part of the log prob is approximated to allow independence.\n",
    "            spurious = dist.Poisson(args.expected_num_spurious).sample((args.num_frames,1))\n",
    "            print(\"Spurious size: \", spurious.shape)\n",
    "            print(spurious)\n",
    "            emitted = dist.Bernoulli(args.emission_prob).sample((int(args.num_frames), int(args.expected_num_objects)))\n",
    "            print(\"Visible size: \", emitted.shape)\n",
    "            maxSpurious = int(max(spurious)[0])\n",
    "            args.max_num_objects = int(args.expected_num_objects + maxSpurious)\n",
    "            print(maxSpurious)\n",
    "            spuriousVec = np.zeros((args.num_frames, maxSpurious))\n",
    "            \n",
    "            count = 0\n",
    "            for i in spurious:\n",
    "                spuriousVec[count,0:int(i[0])] = 1\n",
    "                count = count + 1\n",
    "                \n",
    "            print(emitted)\n",
    "            print(spuriousVec)\n",
    "            emitted = torch.cat((emitted,torch.tensor(spuriousVec)), 1)\n",
    "            print(\"After!\")\n",
    "            print(emitted)\n",
    "\n",
    "            is_observed = (emitted > 0)\n",
    "            with poutine.mask(mask=is_observed):\n",
    "                assign = pyro.sample(\"assign\",\n",
    "                                    dist.Categorical(torch.ones(args.max_num_objects + 1)))\n",
    "                \n",
    "            allZerosSpurious = torch.tensor(np.zeros((args.num_frames, maxSpurious),dtype=int))\n",
    "            print(\"Shapes\")\n",
    "            print(allZerosSpurious.shape)\n",
    "            print(assign.shape)\n",
    "            assign = torch.cat((assign, allZerosSpurious), 1)\n",
    "            print(\"Assign: \", assign)\n",
    "            is_spurious = np.zeros(emitted.shape, dtype=bool)\n",
    "            is_spurious[:,int(args.expected_num_objects):] = (spuriousVec).astype(bool)\n",
    "            is_spurious = torch.tensor(is_spurious)\n",
    "            print(\"Is observed shape: \", is_observed.shape)\n",
    "            print(type(is_observed))\n",
    "            print(\"Is spurious shape: \", is_spurious.shape)\n",
    "            print(type(is_spurious))\n",
    "            print(is_spurious)\n",
    "            is_real = is_observed & ~is_spurious\n",
    "            num_observed = is_observed.float().sum(-1, True)\n",
    "            print(num_observed)\n",
    "\n",
    "            bernoulliRealProbs = args.expected_num_objects / num_observed\n",
    "            bernoulliRealProbs = np.clip(bernoulliRealProbs, 0., 1.)\n",
    "            pyro.sample(\"is_real\",\n",
    "                        dist.Bernoulli(bernoulliRealProbs))\n",
    "\n",
    "            bernoulliSpuriousProbs = args.expected_num_spurious / num_observed\n",
    "            bernoulliSpuriousProbs = np.clip(bernoulliSpuriousProbs, 0., 1.)\n",
    "            pyro.sample(\"is_spurious\",\n",
    "                        dist.Bernoulli(bernoulliSpuriousProbs))\n",
    "\n",
    "            # The remaining continuous part is exact.\n",
    "            with poutine.mask(mask=is_real):\n",
    "                bogus_position = positions.new_zeros(args.num_frames, 1)\n",
    "                augmented_positions = torch.cat([positions, bogus_position], -1)\n",
    "                \n",
    "                print(\"Assign shape: \", assign.shape)\n",
    "                print(\"Augmented shape: \", augmented_positions.shape)\n",
    "                predicted_positions = gather(augmented_positions, assign, -1)\n",
    "                pyro.sample(\"real_observations\",\n",
    "                            dist.Normal(predicted_positions, args.emission_noise_scale))\n",
    "            with poutine.mask(mask=is_spurious):\n",
    "                pyro.sample(\"spurious_observations\", dist.Normal(0., 1.))"
   ]
  },
  {
   "cell_type": "code",
   "execution_count": 177,
   "id": "83df080b",
   "metadata": {},
   "outputs": [
    {
     "name": "stdout",
     "output_type": "stream",
     "text": [
      "Spurious size:  torch.Size([5, 1])\n",
      "tensor([[0.],\n",
      "        [2.],\n",
      "        [0.],\n",
      "        [0.],\n",
      "        [0.]])\n",
      "Visible size:  torch.Size([5, 3])\n",
      "2\n",
      "tensor([[0., 0., 1.],\n",
      "        [1., 1., 1.],\n",
      "        [1., 1., 1.],\n",
      "        [0., 1., 1.],\n",
      "        [1., 1., 1.]])\n",
      "[[0. 0.]\n",
      " [1. 1.]\n",
      " [0. 0.]\n",
      " [0. 0.]\n",
      " [0. 0.]]\n",
      "After!\n",
      "tensor([[0., 0., 1., 0., 0.],\n",
      "        [1., 1., 1., 1., 1.],\n",
      "        [1., 1., 1., 0., 0.],\n",
      "        [0., 1., 1., 0., 0.],\n",
      "        [1., 1., 1., 0., 0.]], dtype=torch.float64)\n",
      "Shapes\n",
      "torch.Size([5, 2])\n",
      "torch.Size([5, 3])\n",
      "Assign:  tensor([[3, 0, 1, 0, 0],\n",
      "        [5, 0, 2, 0, 0],\n",
      "        [5, 2, 5, 0, 0],\n",
      "        [5, 5, 1, 0, 0],\n",
      "        [4, 3, 2, 0, 0]])\n",
      "Is observed shape:  torch.Size([5, 5])\n",
      "<class 'torch.Tensor'>\n",
      "Is spurious shape:  torch.Size([5, 5])\n",
      "<class 'torch.Tensor'>\n",
      "tensor([[False, False, False, False, False],\n",
      "        [False, False, False,  True,  True],\n",
      "        [False, False, False, False, False],\n",
      "        [False, False, False, False, False],\n",
      "        [False, False, False, False, False]])\n",
      "tensor([[1.],\n",
      "        [5.],\n",
      "        [3.],\n",
      "        [2.],\n",
      "        [3.]])\n",
      "Assign shape:  torch.Size([5, 5])\n",
      "Augmented shape:  torch.Size([5, 5])\n"
     ]
    },
    {
     "ename": "RuntimeError",
     "evalue": "index 5 is out of bounds for dimension 1 with size 5",
     "output_type": "error",
     "traceback": [
      "\u001b[1;31m---------------------------------------------------------------------------\u001b[0m",
      "\u001b[1;31mRuntimeError\u001b[0m                              Traceback (most recent call last)",
      "\u001b[1;32m<ipython-input-177-6500eda6874f>\u001b[0m in \u001b[0;36m<module>\u001b[1;34m\u001b[0m\n\u001b[0;32m      2\u001b[0m \u001b[0margs\u001b[0m \u001b[1;33m=\u001b[0m \u001b[0margsObj\u001b[0m\u001b[1;33m.\u001b[0m\u001b[0mget_default_args\u001b[0m\u001b[1;33m(\u001b[0m\u001b[1;33m)\u001b[0m\u001b[1;33m\u001b[0m\u001b[1;33m\u001b[0m\u001b[0m\n\u001b[0;32m      3\u001b[0m \u001b[0margs\u001b[0m\u001b[1;33m.\u001b[0m\u001b[0mnum_dimensions\u001b[0m \u001b[1;33m=\u001b[0m \u001b[1;36m2\u001b[0m\u001b[1;33m\u001b[0m\u001b[1;33m\u001b[0m\u001b[0m\n\u001b[1;32m----> 4\u001b[1;33m \u001b[0mmodel\u001b[0m\u001b[1;33m(\u001b[0m\u001b[0margs\u001b[0m\u001b[1;33m)\u001b[0m\u001b[1;33m\u001b[0m\u001b[1;33m\u001b[0m\u001b[0m\n\u001b[0m\u001b[0;32m      5\u001b[0m \u001b[0mprint\u001b[0m\u001b[1;33m(\u001b[0m\u001b[0mreal_observations\u001b[0m\u001b[1;33m)\u001b[0m\u001b[1;33m\u001b[0m\u001b[1;33m\u001b[0m\u001b[0m\n",
      "\u001b[1;32m<ipython-input-176-c1279933d425>\u001b[0m in \u001b[0;36mmodel\u001b[1;34m(args)\u001b[0m\n\u001b[0;32m     70\u001b[0m                 \u001b[0mprint\u001b[0m\u001b[1;33m(\u001b[0m\u001b[1;34m\"Assign shape: \"\u001b[0m\u001b[1;33m,\u001b[0m \u001b[0massign\u001b[0m\u001b[1;33m.\u001b[0m\u001b[0mshape\u001b[0m\u001b[1;33m)\u001b[0m\u001b[1;33m\u001b[0m\u001b[1;33m\u001b[0m\u001b[0m\n\u001b[0;32m     71\u001b[0m                 \u001b[0mprint\u001b[0m\u001b[1;33m(\u001b[0m\u001b[1;34m\"Augmented shape: \"\u001b[0m\u001b[1;33m,\u001b[0m \u001b[0maugmented_positions\u001b[0m\u001b[1;33m.\u001b[0m\u001b[0mshape\u001b[0m\u001b[1;33m)\u001b[0m\u001b[1;33m\u001b[0m\u001b[1;33m\u001b[0m\u001b[0m\n\u001b[1;32m---> 72\u001b[1;33m                 \u001b[0mpredicted_positions\u001b[0m \u001b[1;33m=\u001b[0m \u001b[0mgather\u001b[0m\u001b[1;33m(\u001b[0m\u001b[0maugmented_positions\u001b[0m\u001b[1;33m,\u001b[0m \u001b[0massign\u001b[0m\u001b[1;33m,\u001b[0m \u001b[1;33m-\u001b[0m\u001b[1;36m1\u001b[0m\u001b[1;33m)\u001b[0m\u001b[1;33m\u001b[0m\u001b[1;33m\u001b[0m\u001b[0m\n\u001b[0m\u001b[0;32m     73\u001b[0m                 pyro.sample(\"real_observations\",\n\u001b[0;32m     74\u001b[0m                             dist.Normal(predicted_positions, args.emission_noise_scale))\n",
      "\u001b[1;32m~\\anaconda3\\envs\\Pyro\\lib\\site-packages\\pyro\\distributions\\util.py\u001b[0m in \u001b[0;36mgather\u001b[1;34m(value, index, dim)\u001b[0m\n\u001b[0;32m    200\u001b[0m         \u001b[0mzero\u001b[0m \u001b[1;33m=\u001b[0m \u001b[0mtorch\u001b[0m\u001b[1;33m.\u001b[0m\u001b[0mzeros\u001b[0m\u001b[1;33m(\u001b[0m\u001b[1;36m1\u001b[0m\u001b[1;33m,\u001b[0m \u001b[0mdtype\u001b[0m\u001b[1;33m=\u001b[0m\u001b[0mtorch\u001b[0m\u001b[1;33m.\u001b[0m\u001b[0mlong\u001b[0m\u001b[1;33m,\u001b[0m \u001b[0mdevice\u001b[0m\u001b[1;33m=\u001b[0m\u001b[0mindex\u001b[0m\u001b[1;33m.\u001b[0m\u001b[0mdevice\u001b[0m\u001b[1;33m)\u001b[0m\u001b[1;33m\u001b[0m\u001b[1;33m\u001b[0m\u001b[0m\n\u001b[0;32m    201\u001b[0m     \u001b[0mindex\u001b[0m \u001b[1;33m=\u001b[0m \u001b[0mindex\u001b[0m\u001b[1;33m.\u001b[0m\u001b[0mindex_select\u001b[0m\u001b[1;33m(\u001b[0m\u001b[0mdim\u001b[0m\u001b[1;33m,\u001b[0m \u001b[0mzero\u001b[0m\u001b[1;33m)\u001b[0m\u001b[1;33m\u001b[0m\u001b[1;33m\u001b[0m\u001b[0m\n\u001b[1;32m--> 202\u001b[1;33m     \u001b[1;32mreturn\u001b[0m \u001b[0mvalue\u001b[0m\u001b[1;33m.\u001b[0m\u001b[0mgather\u001b[0m\u001b[1;33m(\u001b[0m\u001b[0mdim\u001b[0m\u001b[1;33m,\u001b[0m \u001b[0mindex\u001b[0m\u001b[1;33m)\u001b[0m\u001b[1;33m\u001b[0m\u001b[1;33m\u001b[0m\u001b[0m\n\u001b[0m\u001b[0;32m    203\u001b[0m \u001b[1;33m\u001b[0m\u001b[0m\n\u001b[0;32m    204\u001b[0m \u001b[1;33m\u001b[0m\u001b[0m\n",
      "\u001b[1;31mRuntimeError\u001b[0m: index 5 is out of bounds for dimension 1 with size 5"
     ]
    }
   ],
   "source": [
    "argsObj = Args()\n",
    "args = argsObj.get_default_args()\n",
    "args.num_dimensions = 2\n",
    "model(args)\n",
    "print(real_observations)"
   ]
  },
  {
   "cell_type": "code",
   "execution_count": null,
   "id": "b982b28e",
   "metadata": {},
   "outputs": [],
   "source": []
  }
 ],
 "metadata": {
  "kernelspec": {
   "display_name": "Python 3",
   "language": "python",
   "name": "python3"
  },
  "language_info": {
   "codemirror_mode": {
    "name": "ipython",
    "version": 3
   },
   "file_extension": ".py",
   "mimetype": "text/x-python",
   "name": "python",
   "nbconvert_exporter": "python",
   "pygments_lexer": "ipython3",
   "version": "3.8.10"
  }
 },
 "nbformat": 4,
 "nbformat_minor": 5
}
