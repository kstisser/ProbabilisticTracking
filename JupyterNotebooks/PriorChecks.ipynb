{
 "cells": [
  {
   "cell_type": "markdown",
   "id": "d5c5adcc",
   "metadata": {},
   "source": [
    "<h1>Data Analysis</h1>\n",
    "<h2>Data Generation</h2>\n",
    "This page is for analysis of the data and analysis of the model. First, we'll look at the distributions of the different components of data generation. First, we'll load the imports and Data Generator before we plot the distributions of each data generator component. "
   ]
  },
  {
   "cell_type": "code",
   "execution_count": 3,
   "id": "e26943f1",
   "metadata": {},
   "outputs": [],
   "source": [
    "import math\n",
    "import os\n",
    "import torch\n",
    "from torch.distributions import constraints\n",
    "from matplotlib import pyplot\n",
    "\n",
    "import pyro\n",
    "import pyro.distributions as dist\n",
    "import pyro.poutine as poutine\n",
    "from pyro.contrib.tracking.assignment import MarginalAssignmentPersistent\n",
    "from pyro.distributions.util import gather\n",
    "from pyro.infer import SVI, TraceEnum_ELBO\n",
    "from pyro.optim import Adam\n",
    "import numpy as np\n",
    "import enum\n",
    "\n",
    "import os\n",
    "os.environ[\"KMP_DUPLICATE_LIB_OK\"]=\"TRUE\"\n",
    "\n",
    "assert pyro.__version__.startswith('1.7.0')\n",
    "\n",
    "class MovementType(enum.Enum):\n",
    "    Sinusoidal = 1\n",
    "    Linear2D = 2\n",
    "    Linear3D = 3\n",
    "\n",
    "class Args:\n",
    "    def __init__(self):\n",
    "        self.args = self.get_default_args()\n",
    "\n",
    "    def get_default_args(self):\n",
    "        self.num_frames = 5\n",
    "        self.max_num_objects = 4\n",
    "        self.expected_num_objects = 3.\n",
    "        self.expected_num_spurious = 1.\n",
    "        self.emission_prob = 0.8\n",
    "        self.emission_noise_scale = 0.1 \n",
    "        assert self.max_num_objects >= self.expected_num_objects\n",
    "        return self \n",
    "\n",
    "    def get_prior_predictive_checks_args(self):\n",
    "        self.num_frames = 5\n",
    "        self.expected_num_objects = int(dist.Uniform(1, 5).sample())\n",
    "        self.expected_num_spurious = float(int(dist.Uniform(1,3).sample()))\n",
    "        self.max_num_objects = int(self.expected_num_objects + self.expected_num_spurious)\n",
    "        self.emission_prob = max(0,min(1,abs((dist.Normal(0., 1.).rsample() + 3.)/4.))) #aiming for between [0.5,1.0]\n",
    "        self.emission_noise_scale = max(0,min(1,abs((dist.Normal(0., 1.).rsample() + 2.)/4.))) #aiming for between [0.0,0.5]\n",
    "        assert self.max_num_objects >= self.expected_num_objects\n",
    "        print(\"Predictive check args. Num objects: \", self.expected_num_objects, \" Num spurious: \", self.expected_num_spurious)\n",
    "        print(\"Emission prob: \", self.emission_prob, \" Noise scale: \", self.emission_noise_scale)\n",
    "        return self\n",
    "\n",
    "\n",
    "class DataGenerator:\n",
    "    def __init__(self, movementType):\n",
    "        print(\"Initializing DataGenerator with movement type \", movementType)\n",
    "        self.movementType = movementType\n",
    "        if self.movementType == MovementType.Sinusoidal:\n",
    "            self.numDimensions = 2\n",
    "        elif self.movementType == MovementType.Linear2D:\n",
    "            self.numDimensions = 2\n",
    "        elif self.movementType == MovementType.Linear3D:\n",
    "            self.numDimensions = 3\n",
    "        else:\n",
    "            print(\"Error! Don't recognize movement type! \", self.movementType)\n",
    "\n",
    "    def get_dynamics(self, num_frames):\n",
    "        if self.movementType == MovementType.Sinusoidal:\n",
    "            time = torch.arange(float(num_frames)) / (num_frames - 1)\n",
    "            dynamics = torch.stack([time.cos(), time.sin()], -1)\n",
    "        elif self.movementType == MovementType.Linear2D:\n",
    "            x = torch.arange(float(num_frames)) / (num_frames - 1)\n",
    "            y = torch.arange(float(num_frames)) / (num_frames - 1)\n",
    "            dynamics = torch.stack([x, y], -1)\n",
    "        elif self.movementType == MovementType.Linear3D:\n",
    "            x = torch.arange(float(num_frames)) / (num_frames - 1)\n",
    "            y = torch.arange(float(num_frames)) / (num_frames - 1)\n",
    "            z = torch.arange(float(num_frames)) / (num_frames - 1)\n",
    "            dynamics = torch.stack([x, y, z], -1)\n",
    "        else:\n",
    "            print(\"Error! Don't recognize movement type! \", self.movementType)\n",
    "\n",
    "        return dynamics"
   ]
  },
  {
   "cell_type": "markdown",
   "id": "c741b97b",
   "metadata": {},
   "source": [
    "<h3>Position Distribution</h3>\n",
    "The first distribution we will look at is the position distribution for a single object. "
   ]
  },
  {
   "cell_type": "code",
   "execution_count": 4,
   "id": "a1ee8ffb",
   "metadata": {},
   "outputs": [
    {
     "name": "stdout",
     "output_type": "stream",
     "text": [
      "Initializing DataGenerator with movement type  MovementType.Linear2D\n",
      "torch.Size([50, 1])\n",
      "torch.Size([50, 1])\n",
      "torch.Size([100, 1])\n",
      "tensor([[-0.1092, -0.5548]])\n"
     ]
    },
    {
     "data": {
      "text/plain": [
       "<matplotlib.collections.PathCollection at 0x19394e9b6a0>"
      ]
     },
     "execution_count": 4,
     "metadata": {},
     "output_type": "execute_result"
    },
    {
     "data": {
      "image/png": "[encoded data removed]",
      "text/plain": [
       "<Figure size 432x288 with 1 Axes>"
      ]
     },
     "metadata": {
      "needs_background": "light"
     },
     "output_type": "display_data"
    }
   ],
   "source": [
    "import matplotlib.pyplot as plt\n",
    "%matplotlib inline\n",
    "\n",
    "argsObj = Args()\n",
    "args = argsObj.get_default_args()\n",
    "args.num_frames = 100\n",
    "args.expected_num_objects = 1\n",
    "args.max_num_objects = 2\n",
    "\n",
    "#assume linear 2D motion\n",
    "num_dimensions = 2\n",
    "dataGenerator = DataGenerator(MovementType.Linear2D)\n",
    "num_objects = int(round(args.expected_num_objects))  \n",
    "states = dist.Normal(0., 1.).sample((num_objects, num_dimensions))\n",
    "dynamics = dataGenerator.get_dynamics(args.num_frames)\n",
    "positions = dynamics.mm(states.t())\n",
    "\n",
    "x = positions[:50]\n",
    "y = positions[50:]\n",
    "print(y.shape)\n",
    "print(x.shape)\n",
    "print(positions.shape)\n",
    "print(states)\n",
    "\n",
    "plt.scatter(x,y)"
   ]
  },
  {
   "cell_type": "markdown",
   "id": "022d1159",
   "metadata": {},
   "source": [
    "Next, we will look at multiple objects. This shows that any trajectory with the offset we're using still passes through the center. If we wanted we could add an additional offset, as there will be association confusion when passing through the center. "
   ]
  },
  {
   "cell_type": "code",
   "execution_count": 5,
   "id": "0fd2d69f",
   "metadata": {},
   "outputs": [
    {
     "name": "stdout",
     "output_type": "stream",
     "text": [
      "Initializing DataGenerator with movement type  MovementType.Linear2D\n",
      "torch.Size([50, 80])\n",
      "torch.Size([50, 80])\n",
      "torch.Size([100, 80])\n"
     ]
    },
    {
     "data": {
      "text/plain": [
       "Text(0.5, 1.0, 'No offset')"
      ]
     },
     "execution_count": 5,
     "metadata": {},
     "output_type": "execute_result"
    },
    {
     "data": {
      "image/png": "[encoded data removed]",
      "text/plain": [
       "<Figure size 432x288 with 1 Axes>"
      ]
     },
     "metadata": {
      "needs_background": "light"
     },
     "output_type": "display_data"
    }
   ],
   "source": [
    "argsObj = Args()\n",
    "args = argsObj.get_default_args()\n",
    "args.num_frames = 100\n",
    "args.expected_num_objects = 80\n",
    "args.max_num_objects = 101\n",
    "\n",
    "#assume linear 2D motion\n",
    "num_dimensions = 2\n",
    "dataGenerator = DataGenerator(MovementType.Linear2D)\n",
    "num_objects = int(round(args.expected_num_objects))  \n",
    "states = dist.Normal(0., 1.).sample((num_objects, num_dimensions))\n",
    "dynamics = dataGenerator.get_dynamics(args.num_frames)\n",
    "positions = dynamics.mm(states.t())\n",
    "\n",
    "x = positions[:50]\n",
    "y = positions[50:]\n",
    "print(y.shape)\n",
    "print(x.shape)\n",
    "print(positions.shape)\n",
    "#print(states)\n",
    "\n",
    "plt.scatter(x,y,cmap='jet')\n",
    "plt.title(\"No offset\")"
   ]
  },
  {
   "cell_type": "markdown",
   "id": "35cb7190",
   "metadata": {},
   "source": [
    "Now I add an offset, and I'll plot a few lines so we can see them over the distribution."
   ]
  },
  {
   "cell_type": "code",
   "execution_count": 6,
   "id": "faabd500",
   "metadata": {},
   "outputs": [
    {
     "name": "stdout",
     "output_type": "stream",
     "text": [
      "torch.Size([100, 80])\n",
      "torch.Size([80, 1])\n"
     ]
    },
    {
     "data": {
      "text/plain": [
       "Text(0.5, 1.0, 'With offset')"
      ]
     },
     "execution_count": 6,
     "metadata": {},
     "output_type": "execute_result"
    },
    {
     "data": {
      "image/png": "[encoded data removed]",
      "text/plain": [
       "<Figure size 432x288 with 1 Axes>"
      ]
     },
     "metadata": {
      "needs_background": "light"
     },
     "output_type": "display_data"
    }
   ],
   "source": [
    "offsets = dist.Uniform(0., 1.).sample((args.expected_num_objects,1))\n",
    "dynamics = dataGenerator.get_dynamics(args.num_frames)\n",
    "states = dist.Normal(0., 1.).sample((num_objects, num_dimensions))\n",
    "positions = dynamics.mm(states.t())\n",
    "positions = positions + offsets.t()\n",
    "\n",
    "print(positions.shape)\n",
    "print(offsets.shape)\n",
    "\n",
    "x = positions[:50]\n",
    "y = positions[50:]\n",
    "\n",
    "\n",
    "plt.scatter(x,y,cmap='jet')\n",
    "plt.plot(x[:,0],y[:,0],c='r')\n",
    "plt.plot(x[:,30],y[:,30],c='r')\n",
    "plt.plot(x[:,50],y[:,50],c='r')\n",
    "plt.title(\"With offset\")"
   ]
  },
  {
   "cell_type": "markdown",
   "id": "99a21df3",
   "metadata": {},
   "source": [
    "X and Y states need to be separated"
   ]
  },
  {
   "cell_type": "markdown",
   "id": "8dd1d336",
   "metadata": {},
   "source": [
    "<h2>Prior Predictive Checks</h2>"
   ]
  },
  {
   "cell_type": "markdown",
   "id": "e408c23a",
   "metadata": {},
   "source": [
    "To do prior predictive checks I needed to remove the \"observations\" or the data from the model to be able to check if the model performs acceptably without data. \n",
    "\n",
    "To do this, I needed to still have the num_observed, which relies on is_observed which relies on the observations variable. So, I created new variables using the following distributions, which represents a similar method the data would be generated by:\n",
    "spurious- Poisson\n",
    "emitted- Bernoulli\n",
    "\n",
    "is_observed is then obtained from emitted, which is a combination of the Bernoulli distribution of expected observations over a number of frames + spurious observations over a number of frames"
   ]
  },
  {
   "cell_type": "code",
   "execution_count": 20,
   "id": "0e2b8a65",
   "metadata": {},
   "outputs": [],
   "source": [
    "def model(args):\n",
    "   \n",
    "    with pyro.plate(\"objects\", args.max_num_objects):\n",
    "        exists = pyro.sample(\"exists\",\n",
    "                            dist.Bernoulli(args.expected_num_objects / args.max_num_objects))\n",
    "        with poutine.mask(mask=exists.bool()):\n",
    "            states = pyro.sample(\"states\", dist.Normal(0., 1.).expand([args.num_dimensions]).to_event(1))\n",
    "            positions = dataGenerator.get_dynamics(args.num_frames).mm(states.t())\n",
    "    with pyro.plate(\"time\", args.num_frames):\n",
    "        spurious = dist.Poisson(args.expected_num_spurious).sample((args.num_frames,1))\n",
    "        maxSpurious = int(max(spurious)[0])\n",
    "        args.max_num_objects = int(args.expected_num_objects + maxSpurious)\n",
    "        print(\"Max number of objects: \", args.max_num_objects)\n",
    "        with pyro.plate(\"detections\", args.max_num_objects):\n",
    "        \n",
    "            #spurious = dist.Poisson(args.expected_num_spurious).sample((args.num_frames,1))\n",
    "            emitted = dist.Bernoulli(args.emission_prob).sample((int(args.num_frames), int(args.expected_num_objects)))\n",
    "            \n",
    "            #get the max # of spurious targets in a frame\n",
    "            #maxSpurious = int(max(spurious)[0])\n",
    "            #args.max_num_objects = int(args.expected_num_objects + maxSpurious)\n",
    "            spuriousVec = np.zeros((args.num_frames, maxSpurious))\n",
    "            \n",
    "            #assign 1 or observed for the number of spurious observations per frame\n",
    "            count = 0\n",
    "            for i in spurious:\n",
    "                spuriousVec[count,0:int(i[0])] = 1\n",
    "                count = count + 1\n",
    "                \n",
    "            print(\"Emitted shape before: \", emitted.shape)\n",
    "            print(emitted)\n",
    "            #combine the emitted with the spurious observations\n",
    "            emitted = torch.cat((emitted,torch.tensor(spuriousVec)), 1)\n",
    "            print(\"Emitted shape after: \", emitted.shape)\n",
    "            print(emitted)\n",
    "\n",
    "            #add assignment IDs for each of the observations\n",
    "            is_observed = (emitted > 0)\n",
    "            print(\"Max number of objects: \", args.max_num_objects)\n",
    "            print(\"is_observed shape: \", is_observed.shape)\n",
    "            print(is_observed)\n",
    "            with poutine.mask(mask=is_observed):\n",
    "                assign = pyro.sample(\"assign\",\n",
    "                                    dist.Categorical(torch.ones(args.max_num_objects)))\n",
    "            \n",
    "            print(\"Assign before, \", assign.shape, assign)\n",
    "            '''allZerosSpurious = torch.tensor(np.zeros((args.num_frames, maxSpurious),dtype=int))\n",
    "            assign = torch.cat((assign, allZerosSpurious), 1)\n",
    "            print(\"Assign after, \", assign)'''\n",
    "            is_spurious = np.zeros(emitted.shape, dtype=bool)\n",
    "            is_spurious[:,int(args.expected_num_objects):] = (spuriousVec).astype(bool)\n",
    "            is_spurious = torch.tensor(is_spurious)\n",
    "            is_real = is_observed & ~is_spurious\n",
    "            num_observed = is_observed.float().sum(-1, True)\n",
    "\n",
    "            bernoulliRealProbs = args.expected_num_objects / num_observed\n",
    "            bernoulliRealProbs = np.clip(bernoulliRealProbs, 0., 1.)\n",
    "            isReal = pyro.sample(\"is_real\",\n",
    "                        dist.Bernoulli(bernoulliRealProbs))\n",
    "\n",
    "            bernoulliSpuriousProbs = args.expected_num_spurious / num_observed\n",
    "            bernoulliSpuriousProbs = np.clip(bernoulliSpuriousProbs, 0., 1.)\n",
    "            isSpurious = pyro.sample(\"is_spurious\",\n",
    "                        dist.Bernoulli(bernoulliSpuriousProbs))\n",
    "\n",
    "            # The remaining continuous part is exact.\n",
    "            with poutine.mask(mask=is_real):\n",
    "                bogus_position = positions.new_zeros(args.num_frames, maxSpurious-1)\n",
    "                augmented_positions = torch.cat([positions, bogus_position], -1)\n",
    "                \n",
    "                predicted_positions = gather(augmented_positions, assign, -1)\n",
    "                real = pyro.sample(\"real_observations\",\n",
    "                            dist.Normal(predicted_positions, args.emission_noise_scale))\n",
    "            with poutine.mask(mask=is_spurious):\n",
    "                spurious = pyro.sample(\"spurious_observations\", dist.Normal(0., 1.))\n",
    "            return isReal, isSpurious, real, spurious"
   ]
  },
  {
   "cell_type": "code",
   "execution_count": 14,
   "id": "8ccfd21f",
   "metadata": {},
   "outputs": [
    {
     "name": "stdout",
     "output_type": "stream",
     "text": [
      "Emitted shape before:  torch.Size([5, 3])\n",
      "tensor([[1., 1., 1.],\n",
      "        [1., 1., 0.],\n",
      "        [0., 1., 1.],\n",
      "        [1., 1., 0.],\n",
      "        [1., 0., 0.]])\n",
      "Emitted shape after:  torch.Size([5, 5])\n",
      "tensor([[1., 1., 1., 1., 0.],\n",
      "        [1., 1., 0., 0., 0.],\n",
      "        [0., 1., 1., 0., 0.],\n",
      "        [1., 1., 0., 1., 0.],\n",
      "        [1., 0., 0., 1., 1.]], dtype=torch.float64)\n",
      "Max number of objects:  5\n",
      "is_observed shape:  torch.Size([5, 5])\n",
      "tensor([[ True,  True,  True,  True, False],\n",
      "        [ True,  True, False, False, False],\n",
      "        [False,  True,  True, False, False],\n",
      "        [ True,  True, False,  True, False],\n",
      "        [ True, False, False,  True,  True]])\n",
      "Assign before,  torch.Size([5, 5]) tensor([[1, 0, 4, 4, 1],\n",
      "        [3, 3, 0, 4, 1],\n",
      "        [3, 0, 2, 0, 1],\n",
      "        [1, 2, 2, 0, 0],\n",
      "        [2, 4, 1, 3, 2]])\n",
      "Assign after,  tensor([[1, 0, 4, 4, 1],\n",
      "        [3, 3, 0, 4, 1],\n",
      "        [3, 0, 2, 0, 1],\n",
      "        [1, 2, 2, 0, 0],\n",
      "        [2, 4, 1, 3, 2]])\n",
      "Is Real Mask: \n",
      "tensor([[1., 0., 1., 0., 1.],\n",
      "        [1., 1., 1., 1., 1.],\n",
      "        [1., 1., 1., 1., 1.],\n",
      "        [1., 1., 1., 1., 1.],\n",
      "        [1., 1., 1., 1., 1.]])\n",
      "Is Spurious Mask: \n",
      "tensor([[0., 1., 0., 0., 0.],\n",
      "        [1., 0., 1., 0., 1.],\n",
      "        [1., 1., 1., 0., 1.],\n",
      "        [0., 1., 0., 1., 1.],\n",
      "        [0., 0., 0., 0., 0.]])\n",
      "Real Observations: \n",
      "tensor([[ 0.0945, -0.0454,  0.1206, -0.0146, -0.0626],\n",
      "        [-0.1545, -0.2200, -0.2660, -0.0889, -0.1307],\n",
      "        [-0.4088, -0.4704, -0.3634, -0.4405, -0.4559],\n",
      "        [ 0.2730,  0.1982,  0.2862,  0.2620,  0.2272],\n",
      "        [-0.2496, -0.3952, -0.2930, -0.3197, -0.5380]])\n",
      "Spurious Observations: \n",
      "tensor([[ 0.1671, -2.9156, -0.5906, -1.3535,  0.6047],\n",
      "        [-0.0496,  0.3827,  0.9694,  1.9301,  0.1508],\n",
      "        [-0.4934, -2.0079,  0.4672, -0.1390,  0.0579],\n",
      "        [ 0.2253, -0.0280, -2.1190, -0.2389,  0.8458],\n",
      "        [-0.5455, -1.0064,  0.1223, -0.0753,  0.1314]])\n"
     ]
    }
   ],
   "source": [
    "argsObj = Args()\n",
    "args = argsObj.get_default_args()\n",
    "args.num_dimensions = 2\n",
    "isReal, isSpurious, real_observations, spurious_observations = model(args)\n",
    "print(\"Is Real Mask: \")\n",
    "print(isReal)\n",
    "print(\"Is Spurious Mask: \")\n",
    "print(isSpurious)\n",
    "print(\"Real Observations: \")\n",
    "print(real_observations)\n",
    "print(\"Spurious Observations: \")\n",
    "print(spurious_observations)\n"
   ]
  },
  {
   "cell_type": "code",
   "execution_count": 21,
   "id": "961ff136",
   "metadata": {},
   "outputs": [],
   "source": [
    "# For the binary \"Real\" and \"Spurious\" masks returns a vector of ratios that are real or spurious for each sample\n",
    "# For the normalized \"Real\" and \"Spurious\" likelihoods returns a vector of all scenarios concatted together\n",
    "# These can be used to acquire a mean and stddev and be plotted to see the distributions\n",
    "def getManySamples(args, number_of_samples):\n",
    "    numReal = []\n",
    "    numSpurious = []\n",
    "\n",
    "    allPositionsReal = torch.tensor([])\n",
    "    allPositionsSpurious = torch.tensor([])\n",
    "\n",
    "    for i in range(number_of_samples):\n",
    "        isReal, isSpurious, real_observations, spurious_observations = model(args)\n",
    "\n",
    "        #add ratio of real and spurious\n",
    "        numReal.append(torch.sum(isReal)/torch.numel(isReal))\n",
    "        numSpurious.append(torch.sum(isSpurious)/torch.numel(isSpurious))\n",
    "\n",
    "        #Accumulating all percentages from all samples so we can compute a mean and stddev\n",
    "        allPositionsReal = torch.cat((allPositionsReal, real_observations),1)\n",
    "        allPositionsSpurious = torch.cat((allPositionsSpurious, spurious_observations),1)\n",
    "\n",
    "    return numReal, numSpurious, allPositionsReal, allPositionsSpurious\n",
    "\n",
    "def getStatsAndPlotCount(numReal, numSpurious, ax, args):\n",
    "    numRealMean = np.mean(np.array(numReal))\n",
    "    numRealStddev = np.std(np.array(numReal))\n",
    "    print(\"Num real mean: \", numRealMean, \" stddev: \", numRealStddev)\n",
    "\n",
    "    ax[0].plot(numReal, norm.pdf(numRealMean, numRealStddev), 'g')\n",
    "\n",
    "    numSpuriousMean = np.mean(np.array(numSpurious))\n",
    "    numSpuriousStddev = np.std(np.array(numSpurious))\n",
    "    print(\"Num real mean: \", numSpuriousMean, \" stddev: \", numSpuriousStddev)\n",
    "\n",
    "    ax[0].plot(numSpurious, norm.pdf(numSpuriousMean, numSpuriousStddev), 'r')\n",
    "\n",
    "def getStatsAndPlotPositions(allPositionsReal, allPositionsSpurious, ax, args):\n",
    "    realSum = torch.sum(allPositionsReal)\n",
    "    realMean = realSum/torch.numel(allPositionsReal)\n",
    "\n",
    "    realTitle = \"Real, emissionProb: \" + str(args.emission_prob)\n",
    "    ax[1].plot(allPositionsReal, norm.pdf(realMean, torch.var(allPositionsReal), unbiased=False), 'g', label=realTitle)\n",
    "\n",
    "    spuriousSum = torch.sum(allPositionsSpurious)\n",
    "    spuriousMean = spuriousSum/torch.numel(allPositionsSpurious)\n",
    "\n",
    "    spuriousTitle = \"Spurious, expected: \" + str(args.expected_num_spurious)\n",
    "    ax[1].plot(allPositionsSpurious, norm.pdf(spuriousMean, torch.var(allPositionsSpurious, unbiased=False)), 'r', label=spuriousTitle)\n"
   ]
  },
  {
   "cell_type": "code",
   "execution_count": 16,
   "id": "a89db985",
   "metadata": {},
   "outputs": [
    {
     "name": "stdout",
     "output_type": "stream",
     "text": [
      "Running variation with: \n",
      "Emission Probability:  0.8\n",
      "Expected Number of Spurious:  1.0\n",
      "Emitted shape before:  torch.Size([5, 3])\n",
      "tensor([[1., 1., 1.],\n",
      "        [1., 1., 1.],\n",
      "        [1., 1., 0.],\n",
      "        [0., 1., 1.],\n",
      "        [1., 1., 1.]])\n",
      "Emitted shape after:  torch.Size([5, 6])\n",
      "tensor([[1., 1., 1., 1., 1., 1.],\n",
      "        [1., 1., 1., 1., 0., 0.],\n",
      "        [1., 1., 0., 1., 1., 0.],\n",
      "        [0., 1., 1., 0., 0., 0.],\n",
      "        [1., 1., 1., 1., 0., 0.]], dtype=torch.float64)\n",
      "Max number of objects:  6\n",
      "is_observed shape:  torch.Size([5, 6])\n",
      "tensor([[ True,  True,  True,  True,  True,  True],\n",
      "        [ True,  True,  True,  True, False, False],\n",
      "        [ True,  True, False,  True,  True, False],\n",
      "        [False,  True,  True, False, False, False],\n",
      "        [ True,  True,  True,  True, False, False]])\n",
      "Assign before,  torch.Size([6, 5]) tensor([[4, 2, 4, 5, 3],\n",
      "        [1, 3, 5, 2, 3],\n",
      "        [2, 4, 2, 5, 5],\n",
      "        [1, 4, 2, 1, 5],\n",
      "        [2, 5, 0, 1, 3],\n",
      "        [1, 2, 5, 4, 1]])\n",
      "Assign after,  tensor([[4, 2, 4, 5, 3],\n",
      "        [1, 3, 5, 2, 3],\n",
      "        [2, 4, 2, 5, 5],\n",
      "        [1, 4, 2, 1, 5],\n",
      "        [2, 5, 0, 1, 3],\n",
      "        [1, 2, 5, 4, 1]])\n"
     ]
    },
    {
     "ename": "ValueError",
     "evalue": "Shape mismatch inside plate('detections') at site is_real dim -2, 6 vs 5",
     "output_type": "error",
     "traceback": [
      "\u001b[1;31m---------------------------------------------------------------------------\u001b[0m",
      "\u001b[1;31mValueError\u001b[0m                                Traceback (most recent call last)",
      "\u001b[1;32m<ipython-input-16-c5f8b0541d89>\u001b[0m in \u001b[0;36m<module>\u001b[1;34m\u001b[0m\n\u001b[0;32m     17\u001b[0m \u001b[1;33m\u001b[0m\u001b[0m\n\u001b[0;32m     18\u001b[0m \u001b[1;31m#run default arguments\u001b[0m\u001b[1;33m\u001b[0m\u001b[1;33m\u001b[0m\u001b[1;33m\u001b[0m\u001b[0m\n\u001b[1;32m---> 19\u001b[1;33m \u001b[0mrunPriorPredictiveChecks\u001b[0m\u001b[1;33m(\u001b[0m\u001b[0margs\u001b[0m\u001b[1;33m,\u001b[0m \u001b[0max\u001b[0m\u001b[1;33m,\u001b[0m \u001b[1;36m1.0\u001b[0m\u001b[1;33m,\u001b[0m \u001b[1;36m1.0\u001b[0m\u001b[1;33m)\u001b[0m\u001b[1;33m\u001b[0m\u001b[1;33m\u001b[0m\u001b[0m\n\u001b[0m\u001b[0;32m     20\u001b[0m \u001b[0max\u001b[0m\u001b[1;33m[\u001b[0m\u001b[1;36m0\u001b[0m\u001b[1;33m]\u001b[0m\u001b[1;33m.\u001b[0m\u001b[0mlegend\u001b[0m\u001b[1;33m(\u001b[0m\u001b[0mshadow\u001b[0m\u001b[1;33m=\u001b[0m\u001b[1;32mTrue\u001b[0m\u001b[1;33m,\u001b[0m \u001b[0mfancybox\u001b[0m\u001b[1;33m=\u001b[0m\u001b[1;32mTrue\u001b[0m\u001b[1;33m)\u001b[0m\u001b[1;33m\u001b[0m\u001b[1;33m\u001b[0m\u001b[0m\n\u001b[0;32m     21\u001b[0m \u001b[0max\u001b[0m\u001b[1;33m[\u001b[0m\u001b[1;36m1\u001b[0m\u001b[1;33m]\u001b[0m\u001b[1;33m.\u001b[0m\u001b[0mlegend\u001b[0m\u001b[1;33m(\u001b[0m\u001b[0mshadow\u001b[0m\u001b[1;33m=\u001b[0m\u001b[1;32mTrue\u001b[0m\u001b[1;33m,\u001b[0m \u001b[0mfancybox\u001b[0m\u001b[1;33m=\u001b[0m\u001b[1;32mTrue\u001b[0m\u001b[1;33m)\u001b[0m\u001b[1;33m\u001b[0m\u001b[1;33m\u001b[0m\u001b[0m\n",
      "\u001b[1;32m<ipython-input-16-c5f8b0541d89>\u001b[0m in \u001b[0;36mrunPriorPredictiveChecks\u001b[1;34m(args, ax, emissionColor, spuriousColor)\u001b[0m\n\u001b[0;32m      3\u001b[0m     \u001b[0mprint\u001b[0m\u001b[1;33m(\u001b[0m\u001b[1;34m\"Emission Probability: \"\u001b[0m\u001b[1;33m,\u001b[0m \u001b[0margs\u001b[0m\u001b[1;33m.\u001b[0m\u001b[0memission_prob\u001b[0m\u001b[1;33m)\u001b[0m\u001b[1;33m\u001b[0m\u001b[1;33m\u001b[0m\u001b[0m\n\u001b[0;32m      4\u001b[0m     \u001b[0mprint\u001b[0m\u001b[1;33m(\u001b[0m\u001b[1;34m\"Expected Number of Spurious: \"\u001b[0m\u001b[1;33m,\u001b[0m \u001b[0margs\u001b[0m\u001b[1;33m.\u001b[0m\u001b[0mexpected_num_spurious\u001b[0m\u001b[1;33m)\u001b[0m\u001b[1;33m\u001b[0m\u001b[1;33m\u001b[0m\u001b[0m\n\u001b[1;32m----> 5\u001b[1;33m     \u001b[0mnumReal\u001b[0m\u001b[1;33m,\u001b[0m \u001b[0mnumSpurious\u001b[0m\u001b[1;33m,\u001b[0m \u001b[0mallNormalizedReal\u001b[0m\u001b[1;33m,\u001b[0m \u001b[0mallNormalizedSpurious\u001b[0m \u001b[1;33m=\u001b[0m \u001b[0mgetManySamples\u001b[0m\u001b[1;33m(\u001b[0m\u001b[0margs\u001b[0m\u001b[1;33m,\u001b[0m \u001b[1;36m1000\u001b[0m\u001b[1;33m)\u001b[0m\u001b[1;33m\u001b[0m\u001b[1;33m\u001b[0m\u001b[0m\n\u001b[0m\u001b[0;32m      6\u001b[0m     \u001b[0mgetStatsAndPlotCount\u001b[0m\u001b[1;33m(\u001b[0m\u001b[0mnumReal\u001b[0m\u001b[1;33m,\u001b[0m \u001b[0mnumSpurious\u001b[0m\u001b[1;33m,\u001b[0m \u001b[0max\u001b[0m\u001b[1;33m,\u001b[0m \u001b[0margs\u001b[0m\u001b[1;33m,\u001b[0m \u001b[0memissionColor\u001b[0m\u001b[1;33m,\u001b[0m \u001b[0mspuriousColor\u001b[0m\u001b[1;33m)\u001b[0m\u001b[1;33m\u001b[0m\u001b[1;33m\u001b[0m\u001b[0m\n\u001b[0;32m      7\u001b[0m     \u001b[0mgetStatsAndPlotPositions\u001b[0m\u001b[1;33m(\u001b[0m\u001b[0mallNormalizedReal\u001b[0m\u001b[1;33m,\u001b[0m \u001b[0mallNormalizedSpurious\u001b[0m\u001b[1;33m,\u001b[0m \u001b[0max\u001b[0m\u001b[1;33m,\u001b[0m \u001b[0margs\u001b[0m\u001b[1;33m,\u001b[0m  \u001b[0memissionColor\u001b[0m\u001b[1;33m,\u001b[0m \u001b[0mspuriousColor\u001b[0m\u001b[1;33m)\u001b[0m\u001b[1;33m\u001b[0m\u001b[1;33m\u001b[0m\u001b[0m\n",
      "\u001b[1;32m<ipython-input-15-147058790c5e>\u001b[0m in \u001b[0;36mgetManySamples\u001b[1;34m(args, number_of_samples)\u001b[0m\n\u001b[0;32m     10\u001b[0m \u001b[1;33m\u001b[0m\u001b[0m\n\u001b[0;32m     11\u001b[0m     \u001b[1;32mfor\u001b[0m \u001b[0mi\u001b[0m \u001b[1;32min\u001b[0m \u001b[0mrange\u001b[0m\u001b[1;33m(\u001b[0m\u001b[0mnumber_of_samples\u001b[0m\u001b[1;33m)\u001b[0m\u001b[1;33m:\u001b[0m\u001b[1;33m\u001b[0m\u001b[1;33m\u001b[0m\u001b[0m\n\u001b[1;32m---> 12\u001b[1;33m         \u001b[0misReal\u001b[0m\u001b[1;33m,\u001b[0m \u001b[0misSpurious\u001b[0m\u001b[1;33m,\u001b[0m \u001b[0mreal_observations\u001b[0m\u001b[1;33m,\u001b[0m \u001b[0mspurious_observations\u001b[0m \u001b[1;33m=\u001b[0m \u001b[0mmodel\u001b[0m\u001b[1;33m(\u001b[0m\u001b[0margs\u001b[0m\u001b[1;33m)\u001b[0m\u001b[1;33m\u001b[0m\u001b[1;33m\u001b[0m\u001b[0m\n\u001b[0m\u001b[0;32m     13\u001b[0m \u001b[1;33m\u001b[0m\u001b[0m\n\u001b[0;32m     14\u001b[0m         \u001b[1;31m#add ratio of real and spurious\u001b[0m\u001b[1;33m\u001b[0m\u001b[1;33m\u001b[0m\u001b[1;33m\u001b[0m\u001b[0m\n",
      "\u001b[1;32m<ipython-input-13-81b86a24ad49>\u001b[0m in \u001b[0;36mmodel\u001b[1;34m(args)\u001b[0m\n\u001b[0;32m     55\u001b[0m             \u001b[0mbernoulliRealProbs\u001b[0m \u001b[1;33m=\u001b[0m \u001b[0margs\u001b[0m\u001b[1;33m.\u001b[0m\u001b[0mexpected_num_objects\u001b[0m \u001b[1;33m/\u001b[0m \u001b[0mnum_observed\u001b[0m\u001b[1;33m\u001b[0m\u001b[1;33m\u001b[0m\u001b[0m\n\u001b[0;32m     56\u001b[0m             \u001b[0mbernoulliRealProbs\u001b[0m \u001b[1;33m=\u001b[0m \u001b[0mnp\u001b[0m\u001b[1;33m.\u001b[0m\u001b[0mclip\u001b[0m\u001b[1;33m(\u001b[0m\u001b[0mbernoulliRealProbs\u001b[0m\u001b[1;33m,\u001b[0m \u001b[1;36m0.\u001b[0m\u001b[1;33m,\u001b[0m \u001b[1;36m1.\u001b[0m\u001b[1;33m)\u001b[0m\u001b[1;33m\u001b[0m\u001b[1;33m\u001b[0m\u001b[0m\n\u001b[1;32m---> 57\u001b[1;33m             isReal = pyro.sample(\"is_real\",\n\u001b[0m\u001b[0;32m     58\u001b[0m                         dist.Bernoulli(bernoulliRealProbs))\n\u001b[0;32m     59\u001b[0m \u001b[1;33m\u001b[0m\u001b[0m\n",
      "\u001b[1;32m~\\anaconda3\\envs\\Pyro\\lib\\site-packages\\pyro\\primitives.py\u001b[0m in \u001b[0;36msample\u001b[1;34m(name, fn, *args, **kwargs)\u001b[0m\n\u001b[0;32m    162\u001b[0m         }\n\u001b[0;32m    163\u001b[0m         \u001b[1;31m# apply the stack and return its return value\u001b[0m\u001b[1;33m\u001b[0m\u001b[1;33m\u001b[0m\u001b[1;33m\u001b[0m\u001b[0m\n\u001b[1;32m--> 164\u001b[1;33m         \u001b[0mapply_stack\u001b[0m\u001b[1;33m(\u001b[0m\u001b[0mmsg\u001b[0m\u001b[1;33m)\u001b[0m\u001b[1;33m\u001b[0m\u001b[1;33m\u001b[0m\u001b[0m\n\u001b[0m\u001b[0;32m    165\u001b[0m         \u001b[1;32mreturn\u001b[0m \u001b[0mmsg\u001b[0m\u001b[1;33m[\u001b[0m\u001b[1;34m\"value\"\u001b[0m\u001b[1;33m]\u001b[0m\u001b[1;33m\u001b[0m\u001b[1;33m\u001b[0m\u001b[0m\n\u001b[0;32m    166\u001b[0m \u001b[1;33m\u001b[0m\u001b[0m\n",
      "\u001b[1;32m~\\anaconda3\\envs\\Pyro\\lib\\site-packages\\pyro\\poutine\\runtime.py\u001b[0m in \u001b[0;36mapply_stack\u001b[1;34m(initial_msg)\u001b[0m\n\u001b[0;32m    210\u001b[0m         \u001b[0mpointer\u001b[0m \u001b[1;33m=\u001b[0m \u001b[0mpointer\u001b[0m \u001b[1;33m+\u001b[0m \u001b[1;36m1\u001b[0m\u001b[1;33m\u001b[0m\u001b[1;33m\u001b[0m\u001b[0m\n\u001b[0;32m    211\u001b[0m \u001b[1;33m\u001b[0m\u001b[0m\n\u001b[1;32m--> 212\u001b[1;33m         \u001b[0mframe\u001b[0m\u001b[1;33m.\u001b[0m\u001b[0m_process_message\u001b[0m\u001b[1;33m(\u001b[0m\u001b[0mmsg\u001b[0m\u001b[1;33m)\u001b[0m\u001b[1;33m\u001b[0m\u001b[1;33m\u001b[0m\u001b[0m\n\u001b[0m\u001b[0;32m    213\u001b[0m \u001b[1;33m\u001b[0m\u001b[0m\n\u001b[0;32m    214\u001b[0m         \u001b[1;32mif\u001b[0m \u001b[0mmsg\u001b[0m\u001b[1;33m[\u001b[0m\u001b[1;34m\"stop\"\u001b[0m\u001b[1;33m]\u001b[0m\u001b[1;33m:\u001b[0m\u001b[1;33m\u001b[0m\u001b[1;33m\u001b[0m\u001b[0m\n",
      "\u001b[1;32m~\\anaconda3\\envs\\Pyro\\lib\\site-packages\\pyro\\poutine\\plate_messenger.py\u001b[0m in \u001b[0;36m_process_message\u001b[1;34m(self, msg)\u001b[0m\n\u001b[0;32m     17\u001b[0m     \u001b[1;32mdef\u001b[0m \u001b[0m_process_message\u001b[0m\u001b[1;33m(\u001b[0m\u001b[0mself\u001b[0m\u001b[1;33m,\u001b[0m \u001b[0mmsg\u001b[0m\u001b[1;33m)\u001b[0m\u001b[1;33m:\u001b[0m\u001b[1;33m\u001b[0m\u001b[1;33m\u001b[0m\u001b[0m\n\u001b[0;32m     18\u001b[0m         \u001b[0msuper\u001b[0m\u001b[1;33m(\u001b[0m\u001b[1;33m)\u001b[0m\u001b[1;33m.\u001b[0m\u001b[0m_process_message\u001b[0m\u001b[1;33m(\u001b[0m\u001b[0mmsg\u001b[0m\u001b[1;33m)\u001b[0m\u001b[1;33m\u001b[0m\u001b[1;33m\u001b[0m\u001b[0m\n\u001b[1;32m---> 19\u001b[1;33m         \u001b[1;32mreturn\u001b[0m \u001b[0mBroadcastMessenger\u001b[0m\u001b[1;33m.\u001b[0m\u001b[0m_pyro_sample\u001b[0m\u001b[1;33m(\u001b[0m\u001b[0mmsg\u001b[0m\u001b[1;33m)\u001b[0m\u001b[1;33m\u001b[0m\u001b[1;33m\u001b[0m\u001b[0m\n\u001b[0m\u001b[0;32m     20\u001b[0m \u001b[1;33m\u001b[0m\u001b[0m\n\u001b[0;32m     21\u001b[0m     \u001b[1;32mdef\u001b[0m \u001b[0m__enter__\u001b[0m\u001b[1;33m(\u001b[0m\u001b[0mself\u001b[0m\u001b[1;33m)\u001b[0m\u001b[1;33m:\u001b[0m\u001b[1;33m\u001b[0m\u001b[1;33m\u001b[0m\u001b[0m\n",
      "\u001b[1;32m~\\anaconda3\\envs\\Pyro\\lib\\contextlib.py\u001b[0m in \u001b[0;36minner\u001b[1;34m(*args, **kwds)\u001b[0m\n\u001b[0;32m     73\u001b[0m         \u001b[1;32mdef\u001b[0m \u001b[0minner\u001b[0m\u001b[1;33m(\u001b[0m\u001b[1;33m*\u001b[0m\u001b[0margs\u001b[0m\u001b[1;33m,\u001b[0m \u001b[1;33m**\u001b[0m\u001b[0mkwds\u001b[0m\u001b[1;33m)\u001b[0m\u001b[1;33m:\u001b[0m\u001b[1;33m\u001b[0m\u001b[1;33m\u001b[0m\u001b[0m\n\u001b[0;32m     74\u001b[0m             \u001b[1;32mwith\u001b[0m \u001b[0mself\u001b[0m\u001b[1;33m.\u001b[0m\u001b[0m_recreate_cm\u001b[0m\u001b[1;33m(\u001b[0m\u001b[1;33m)\u001b[0m\u001b[1;33m:\u001b[0m\u001b[1;33m\u001b[0m\u001b[1;33m\u001b[0m\u001b[0m\n\u001b[1;32m---> 75\u001b[1;33m                 \u001b[1;32mreturn\u001b[0m \u001b[0mfunc\u001b[0m\u001b[1;33m(\u001b[0m\u001b[1;33m*\u001b[0m\u001b[0margs\u001b[0m\u001b[1;33m,\u001b[0m \u001b[1;33m**\u001b[0m\u001b[0mkwds\u001b[0m\u001b[1;33m)\u001b[0m\u001b[1;33m\u001b[0m\u001b[1;33m\u001b[0m\u001b[0m\n\u001b[0m\u001b[0;32m     76\u001b[0m         \u001b[1;32mreturn\u001b[0m \u001b[0minner\u001b[0m\u001b[1;33m\u001b[0m\u001b[1;33m\u001b[0m\u001b[0m\n\u001b[0;32m     77\u001b[0m \u001b[1;33m\u001b[0m\u001b[0m\n",
      "\u001b[1;32m~\\anaconda3\\envs\\Pyro\\lib\\site-packages\\pyro\\poutine\\broadcast_messenger.py\u001b[0m in \u001b[0;36m_pyro_sample\u001b[1;34m(msg)\u001b[0m\n\u001b[0;32m     63\u001b[0m                     \u001b[1;32mand\u001b[0m \u001b[0mtarget_batch_shape\u001b[0m\u001b[1;33m[\u001b[0m\u001b[0mf\u001b[0m\u001b[1;33m.\u001b[0m\u001b[0mdim\u001b[0m\u001b[1;33m]\u001b[0m \u001b[1;33m!=\u001b[0m \u001b[0mf\u001b[0m\u001b[1;33m.\u001b[0m\u001b[0msize\u001b[0m\u001b[1;33m\u001b[0m\u001b[1;33m\u001b[0m\u001b[0m\n\u001b[0;32m     64\u001b[0m                 ):\n\u001b[1;32m---> 65\u001b[1;33m                     raise ValueError(\n\u001b[0m\u001b[0;32m     66\u001b[0m                         \"Shape mismatch inside plate('{}') at site {} dim {}, {} vs {}\".format(\n\u001b[0;32m     67\u001b[0m                             \u001b[0mf\u001b[0m\u001b[1;33m.\u001b[0m\u001b[0mname\u001b[0m\u001b[1;33m,\u001b[0m\u001b[1;33m\u001b[0m\u001b[1;33m\u001b[0m\u001b[0m\n",
      "\u001b[1;31mValueError\u001b[0m: Shape mismatch inside plate('detections') at site is_real dim -2, 6 vs 5"
     ]
    },
    {
     "data": {
      "image/png": "[encoded data removed]",
      "text/plain": [
       "<Figure size 432x288 with 2 Axes>"
      ]
     },
     "metadata": {
      "needs_background": "light"
     },
     "output_type": "display_data"
    }
   ],
   "source": [
    "\n",
    "def runPriorPredictiveChecks(args, ax, emissionColor, spuriousColor):\n",
    "    print(\"Running variation with: \")\n",
    "    print(\"Emission Probability: \", args.emission_prob)\n",
    "    print(\"Expected Number of Spurious: \", args.expected_num_spurious)\n",
    "    numReal, numSpurious, allNormalizedReal, allNormalizedSpurious = getManySamples(args, 1000)\n",
    "    getStatsAndPlotCount(numReal, numSpurious, ax, args, emissionColor, spuriousColor)\n",
    "    getStatsAndPlotPositions(allNormalizedReal, allNormalizedSpurious, ax, args,  emissionColor, spuriousColor)\n",
    "    \n",
    "argsObj = Args()\n",
    "args = argsObj.get_default_args()\n",
    "args.num_dimensions = 2\n",
    "\n",
    "#set up plotting\n",
    "fig, ax = plt.subplots(1,2)\n",
    "ax[0].set_title('Total real vs spurious')\n",
    "ax[1].set_title('Probability real vs spurious')\n",
    "\n",
    "#run default arguments\n",
    "runPriorPredictiveChecks(args, ax, 1.0, 1.0)\n",
    "ax[0].legend(shadow=True, fancybox=True)\n",
    "ax[1].legend(shadow=True, fancybox=True)\n",
    "plt.show()"
   ]
  },
  {
   "cell_type": "code",
   "execution_count": 256,
   "id": "9811a070",
   "metadata": {},
   "outputs": [
    {
     "name": "stdout",
     "output_type": "stream",
     "text": [
      "Running variation with: \n",
      "Emission Probability:  0.4\n",
      "Expected Number of Spurious:  0.0\n"
     ]
    },
    {
     "ename": "ValueError",
     "evalue": "The parameter rate has invalid values",
     "output_type": "error",
     "traceback": [
      "\u001b[1;31m---------------------------------------------------------------------------\u001b[0m",
      "\u001b[1;31mValueError\u001b[0m                                Traceback (most recent call last)",
      "\u001b[1;32m<ipython-input-256-05cd4a7edf9c>\u001b[0m in \u001b[0;36m<module>\u001b[1;34m\u001b[0m\n\u001b[0;32m     19\u001b[0m         \u001b[0mspColor\u001b[0m \u001b[1;33m=\u001b[0m \u001b[0mspuriousColors\u001b[0m\u001b[1;33m[\u001b[0m\u001b[0mspCount\u001b[0m\u001b[1;33m]\u001b[0m\u001b[1;33m\u001b[0m\u001b[1;33m\u001b[0m\u001b[0m\n\u001b[0;32m     20\u001b[0m         \u001b[0margs\u001b[0m\u001b[1;33m.\u001b[0m\u001b[0mexpected_num_spurious\u001b[0m \u001b[1;33m=\u001b[0m \u001b[0msp\u001b[0m\u001b[1;33m\u001b[0m\u001b[1;33m\u001b[0m\u001b[0m\n\u001b[1;32m---> 21\u001b[1;33m         \u001b[0mrunPriorPredictiveChecks\u001b[0m\u001b[1;33m(\u001b[0m\u001b[0margs\u001b[0m\u001b[1;33m,\u001b[0m \u001b[0max\u001b[0m\u001b[1;33m,\u001b[0m \u001b[0memColor\u001b[0m\u001b[1;33m,\u001b[0m \u001b[0mspColor\u001b[0m\u001b[1;33m)\u001b[0m\u001b[1;33m\u001b[0m\u001b[1;33m\u001b[0m\u001b[0m\n\u001b[0m\u001b[0;32m     22\u001b[0m         \u001b[0mspCount\u001b[0m \u001b[1;33m=\u001b[0m \u001b[0mspCount\u001b[0m \u001b[1;33m+\u001b[0m \u001b[1;36m1\u001b[0m\u001b[1;33m\u001b[0m\u001b[1;33m\u001b[0m\u001b[0m\n\u001b[0;32m     23\u001b[0m     \u001b[0memCount\u001b[0m \u001b[1;33m=\u001b[0m \u001b[0memCount\u001b[0m \u001b[1;33m+\u001b[0m \u001b[1;36m1\u001b[0m\u001b[1;33m\u001b[0m\u001b[1;33m\u001b[0m\u001b[0m\n",
      "\u001b[1;32m<ipython-input-255-0c1b26702031>\u001b[0m in \u001b[0;36mrunPriorPredictiveChecks\u001b[1;34m(args, ax, emissionColor, spuriousColor)\u001b[0m\n\u001b[0;32m      3\u001b[0m     \u001b[0mprint\u001b[0m\u001b[1;33m(\u001b[0m\u001b[1;34m\"Emission Probability: \"\u001b[0m\u001b[1;33m,\u001b[0m \u001b[0margs\u001b[0m\u001b[1;33m.\u001b[0m\u001b[0memission_prob\u001b[0m\u001b[1;33m)\u001b[0m\u001b[1;33m\u001b[0m\u001b[1;33m\u001b[0m\u001b[0m\n\u001b[0;32m      4\u001b[0m     \u001b[0mprint\u001b[0m\u001b[1;33m(\u001b[0m\u001b[1;34m\"Expected Number of Spurious: \"\u001b[0m\u001b[1;33m,\u001b[0m \u001b[0margs\u001b[0m\u001b[1;33m.\u001b[0m\u001b[0mexpected_num_spurious\u001b[0m\u001b[1;33m)\u001b[0m\u001b[1;33m\u001b[0m\u001b[1;33m\u001b[0m\u001b[0m\n\u001b[1;32m----> 5\u001b[1;33m     \u001b[0mnumReal\u001b[0m\u001b[1;33m,\u001b[0m \u001b[0mnumSpurious\u001b[0m\u001b[1;33m,\u001b[0m \u001b[0mallNormalizedReal\u001b[0m\u001b[1;33m,\u001b[0m \u001b[0mallNormalizedSpurious\u001b[0m \u001b[1;33m=\u001b[0m \u001b[0mgetManySamples\u001b[0m\u001b[1;33m(\u001b[0m\u001b[0margs\u001b[0m\u001b[1;33m,\u001b[0m \u001b[1;36m1000\u001b[0m\u001b[1;33m)\u001b[0m\u001b[1;33m\u001b[0m\u001b[1;33m\u001b[0m\u001b[0m\n\u001b[0m\u001b[0;32m      6\u001b[0m     \u001b[0mgetStatsAndPlotCount\u001b[0m\u001b[1;33m(\u001b[0m\u001b[0mnumReal\u001b[0m\u001b[1;33m,\u001b[0m \u001b[0mnumSpurious\u001b[0m\u001b[1;33m,\u001b[0m \u001b[0max\u001b[0m\u001b[1;33m,\u001b[0m \u001b[0margs\u001b[0m\u001b[1;33m,\u001b[0m \u001b[0memissionColor\u001b[0m\u001b[1;33m,\u001b[0m \u001b[0mspuriousColor\u001b[0m\u001b[1;33m)\u001b[0m\u001b[1;33m\u001b[0m\u001b[1;33m\u001b[0m\u001b[0m\n\u001b[0;32m      7\u001b[0m     \u001b[0mgetStatsAndPlotNormalized\u001b[0m\u001b[1;33m(\u001b[0m\u001b[0mallNormalizedReal\u001b[0m\u001b[1;33m,\u001b[0m \u001b[0mallNormalizedSpurious\u001b[0m\u001b[1;33m,\u001b[0m \u001b[0max\u001b[0m\u001b[1;33m,\u001b[0m \u001b[0margs\u001b[0m\u001b[1;33m,\u001b[0m  \u001b[0memissionColor\u001b[0m\u001b[1;33m,\u001b[0m \u001b[0mspuriousColor\u001b[0m\u001b[1;33m)\u001b[0m\u001b[1;33m\u001b[0m\u001b[1;33m\u001b[0m\u001b[0m\n",
      "\u001b[1;32m<ipython-input-244-26ba46f92686>\u001b[0m in \u001b[0;36mgetManySamples\u001b[1;34m(args, number_of_samples)\u001b[0m\n\u001b[0;32m     10\u001b[0m \u001b[1;33m\u001b[0m\u001b[0m\n\u001b[0;32m     11\u001b[0m     \u001b[1;32mfor\u001b[0m \u001b[0mi\u001b[0m \u001b[1;32min\u001b[0m \u001b[0mrange\u001b[0m\u001b[1;33m(\u001b[0m\u001b[0mnumber_of_samples\u001b[0m\u001b[1;33m)\u001b[0m\u001b[1;33m:\u001b[0m\u001b[1;33m\u001b[0m\u001b[1;33m\u001b[0m\u001b[0m\n\u001b[1;32m---> 12\u001b[1;33m         \u001b[0misReal\u001b[0m\u001b[1;33m,\u001b[0m \u001b[0misSpurious\u001b[0m\u001b[1;33m,\u001b[0m \u001b[0mreal_observations\u001b[0m\u001b[1;33m,\u001b[0m \u001b[0mspurious_observations\u001b[0m \u001b[1;33m=\u001b[0m \u001b[0mmodel\u001b[0m\u001b[1;33m(\u001b[0m\u001b[0margs\u001b[0m\u001b[1;33m)\u001b[0m\u001b[1;33m\u001b[0m\u001b[1;33m\u001b[0m\u001b[0m\n\u001b[0m\u001b[0;32m     13\u001b[0m \u001b[1;33m\u001b[0m\u001b[0m\n\u001b[0;32m     14\u001b[0m         \u001b[0mnormalizedReal\u001b[0m \u001b[1;33m=\u001b[0m \u001b[0mnormalize_tensor\u001b[0m\u001b[1;33m(\u001b[0m\u001b[0mreal_observations\u001b[0m\u001b[1;33m)\u001b[0m\u001b[1;33m\u001b[0m\u001b[1;33m\u001b[0m\u001b[0m\n",
      "\u001b[1;32m<ipython-input-236-6c2e48d48e0d>\u001b[0m in \u001b[0;36mmodel\u001b[1;34m(args)\u001b[0m\n\u001b[0;32m      8\u001b[0m     \u001b[1;32mwith\u001b[0m \u001b[0mpyro\u001b[0m\u001b[1;33m.\u001b[0m\u001b[0mplate\u001b[0m\u001b[1;33m(\u001b[0m\u001b[1;34m\"detections\"\u001b[0m\u001b[1;33m,\u001b[0m \u001b[0margs\u001b[0m\u001b[1;33m.\u001b[0m\u001b[0mexpected_num_objects\u001b[0m\u001b[1;33m)\u001b[0m\u001b[1;33m:\u001b[0m\u001b[1;33m\u001b[0m\u001b[1;33m\u001b[0m\u001b[0m\n\u001b[0;32m      9\u001b[0m         \u001b[1;32mwith\u001b[0m \u001b[0mpyro\u001b[0m\u001b[1;33m.\u001b[0m\u001b[0mplate\u001b[0m\u001b[1;33m(\u001b[0m\u001b[1;34m\"time\"\u001b[0m\u001b[1;33m,\u001b[0m \u001b[0margs\u001b[0m\u001b[1;33m.\u001b[0m\u001b[0mnum_frames\u001b[0m\u001b[1;33m)\u001b[0m\u001b[1;33m:\u001b[0m\u001b[1;33m\u001b[0m\u001b[1;33m\u001b[0m\u001b[0m\n\u001b[1;32m---> 10\u001b[1;33m             \u001b[0mspurious\u001b[0m \u001b[1;33m=\u001b[0m \u001b[0mdist\u001b[0m\u001b[1;33m.\u001b[0m\u001b[0mPoisson\u001b[0m\u001b[1;33m(\u001b[0m\u001b[0margs\u001b[0m\u001b[1;33m.\u001b[0m\u001b[0mexpected_num_spurious\u001b[0m\u001b[1;33m)\u001b[0m\u001b[1;33m.\u001b[0m\u001b[0msample\u001b[0m\u001b[1;33m(\u001b[0m\u001b[1;33m(\u001b[0m\u001b[0margs\u001b[0m\u001b[1;33m.\u001b[0m\u001b[0mnum_frames\u001b[0m\u001b[1;33m,\u001b[0m\u001b[1;36m1\u001b[0m\u001b[1;33m)\u001b[0m\u001b[1;33m)\u001b[0m\u001b[1;33m\u001b[0m\u001b[1;33m\u001b[0m\u001b[0m\n\u001b[0m\u001b[0;32m     11\u001b[0m             \u001b[0memitted\u001b[0m \u001b[1;33m=\u001b[0m \u001b[0mdist\u001b[0m\u001b[1;33m.\u001b[0m\u001b[0mBernoulli\u001b[0m\u001b[1;33m(\u001b[0m\u001b[0margs\u001b[0m\u001b[1;33m.\u001b[0m\u001b[0memission_prob\u001b[0m\u001b[1;33m)\u001b[0m\u001b[1;33m.\u001b[0m\u001b[0msample\u001b[0m\u001b[1;33m(\u001b[0m\u001b[1;33m(\u001b[0m\u001b[0mint\u001b[0m\u001b[1;33m(\u001b[0m\u001b[0margs\u001b[0m\u001b[1;33m.\u001b[0m\u001b[0mnum_frames\u001b[0m\u001b[1;33m)\u001b[0m\u001b[1;33m,\u001b[0m \u001b[0mint\u001b[0m\u001b[1;33m(\u001b[0m\u001b[0margs\u001b[0m\u001b[1;33m.\u001b[0m\u001b[0mexpected_num_objects\u001b[0m\u001b[1;33m)\u001b[0m\u001b[1;33m)\u001b[0m\u001b[1;33m)\u001b[0m\u001b[1;33m\u001b[0m\u001b[1;33m\u001b[0m\u001b[0m\n\u001b[0;32m     12\u001b[0m \u001b[1;33m\u001b[0m\u001b[0m\n",
      "\u001b[1;32m~\\anaconda3\\envs\\Pyro\\lib\\site-packages\\pyro\\distributions\\distribution.py\u001b[0m in \u001b[0;36m__call__\u001b[1;34m(cls, *args, **kwargs)\u001b[0m\n\u001b[0;32m     16\u001b[0m             \u001b[1;32mif\u001b[0m \u001b[0mresult\u001b[0m \u001b[1;32mis\u001b[0m \u001b[1;32mnot\u001b[0m \u001b[1;32mNone\u001b[0m\u001b[1;33m:\u001b[0m\u001b[1;33m\u001b[0m\u001b[1;33m\u001b[0m\u001b[0m\n\u001b[0;32m     17\u001b[0m                 \u001b[1;32mreturn\u001b[0m \u001b[0mresult\u001b[0m\u001b[1;33m\u001b[0m\u001b[1;33m\u001b[0m\u001b[0m\n\u001b[1;32m---> 18\u001b[1;33m         \u001b[1;32mreturn\u001b[0m \u001b[0msuper\u001b[0m\u001b[1;33m(\u001b[0m\u001b[1;33m)\u001b[0m\u001b[1;33m.\u001b[0m\u001b[0m__call__\u001b[0m\u001b[1;33m(\u001b[0m\u001b[1;33m*\u001b[0m\u001b[0margs\u001b[0m\u001b[1;33m,\u001b[0m \u001b[1;33m**\u001b[0m\u001b[0mkwargs\u001b[0m\u001b[1;33m)\u001b[0m\u001b[1;33m\u001b[0m\u001b[1;33m\u001b[0m\u001b[0m\n\u001b[0m\u001b[0;32m     19\u001b[0m \u001b[1;33m\u001b[0m\u001b[0m\n\u001b[0;32m     20\u001b[0m     \u001b[1;33m@\u001b[0m\u001b[0mproperty\u001b[0m\u001b[1;33m\u001b[0m\u001b[1;33m\u001b[0m\u001b[0m\n",
      "\u001b[1;32m~\\anaconda3\\envs\\Pyro\\lib\\site-packages\\pyro\\distributions\\torch.py\u001b[0m in \u001b[0;36m__init__\u001b[1;34m(self, rate, is_sparse, validate_args)\u001b[0m\n\u001b[0;32m    251\u001b[0m     \u001b[1;32mdef\u001b[0m \u001b[0m__init__\u001b[0m\u001b[1;33m(\u001b[0m\u001b[0mself\u001b[0m\u001b[1;33m,\u001b[0m \u001b[0mrate\u001b[0m\u001b[1;33m,\u001b[0m \u001b[1;33m*\u001b[0m\u001b[1;33m,\u001b[0m \u001b[0mis_sparse\u001b[0m\u001b[1;33m=\u001b[0m\u001b[1;32mFalse\u001b[0m\u001b[1;33m,\u001b[0m \u001b[0mvalidate_args\u001b[0m\u001b[1;33m=\u001b[0m\u001b[1;32mNone\u001b[0m\u001b[1;33m)\u001b[0m\u001b[1;33m:\u001b[0m\u001b[1;33m\u001b[0m\u001b[1;33m\u001b[0m\u001b[0m\n\u001b[0;32m    252\u001b[0m         \u001b[0mself\u001b[0m\u001b[1;33m.\u001b[0m\u001b[0mis_sparse\u001b[0m \u001b[1;33m=\u001b[0m \u001b[0mis_sparse\u001b[0m\u001b[1;33m\u001b[0m\u001b[1;33m\u001b[0m\u001b[0m\n\u001b[1;32m--> 253\u001b[1;33m         \u001b[0msuper\u001b[0m\u001b[1;33m(\u001b[0m\u001b[1;33m)\u001b[0m\u001b[1;33m.\u001b[0m\u001b[0m__init__\u001b[0m\u001b[1;33m(\u001b[0m\u001b[0mrate\u001b[0m\u001b[1;33m,\u001b[0m \u001b[0mvalidate_args\u001b[0m\u001b[1;33m=\u001b[0m\u001b[0mvalidate_args\u001b[0m\u001b[1;33m)\u001b[0m\u001b[1;33m\u001b[0m\u001b[1;33m\u001b[0m\u001b[0m\n\u001b[0m\u001b[0;32m    254\u001b[0m \u001b[1;33m\u001b[0m\u001b[0m\n\u001b[0;32m    255\u001b[0m     \u001b[1;32mdef\u001b[0m \u001b[0mexpand\u001b[0m\u001b[1;33m(\u001b[0m\u001b[0mself\u001b[0m\u001b[1;33m,\u001b[0m \u001b[0mbatch_shape\u001b[0m\u001b[1;33m,\u001b[0m \u001b[0m_instance\u001b[0m\u001b[1;33m=\u001b[0m\u001b[1;32mNone\u001b[0m\u001b[1;33m)\u001b[0m\u001b[1;33m:\u001b[0m\u001b[1;33m\u001b[0m\u001b[1;33m\u001b[0m\u001b[0m\n",
      "\u001b[1;32m~\\anaconda3\\envs\\Pyro\\lib\\site-packages\\torch\\distributions\\poisson.py\u001b[0m in \u001b[0;36m__init__\u001b[1;34m(self, rate, validate_args)\u001b[0m\n\u001b[0;32m     42\u001b[0m         \u001b[1;32melse\u001b[0m\u001b[1;33m:\u001b[0m\u001b[1;33m\u001b[0m\u001b[1;33m\u001b[0m\u001b[0m\n\u001b[0;32m     43\u001b[0m             \u001b[0mbatch_shape\u001b[0m \u001b[1;33m=\u001b[0m \u001b[0mself\u001b[0m\u001b[1;33m.\u001b[0m\u001b[0mrate\u001b[0m\u001b[1;33m.\u001b[0m\u001b[0msize\u001b[0m\u001b[1;33m(\u001b[0m\u001b[1;33m)\u001b[0m\u001b[1;33m\u001b[0m\u001b[1;33m\u001b[0m\u001b[0m\n\u001b[1;32m---> 44\u001b[1;33m         \u001b[0msuper\u001b[0m\u001b[1;33m(\u001b[0m\u001b[0mPoisson\u001b[0m\u001b[1;33m,\u001b[0m \u001b[0mself\u001b[0m\u001b[1;33m)\u001b[0m\u001b[1;33m.\u001b[0m\u001b[0m__init__\u001b[0m\u001b[1;33m(\u001b[0m\u001b[0mbatch_shape\u001b[0m\u001b[1;33m,\u001b[0m \u001b[0mvalidate_args\u001b[0m\u001b[1;33m=\u001b[0m\u001b[0mvalidate_args\u001b[0m\u001b[1;33m)\u001b[0m\u001b[1;33m\u001b[0m\u001b[1;33m\u001b[0m\u001b[0m\n\u001b[0m\u001b[0;32m     45\u001b[0m \u001b[1;33m\u001b[0m\u001b[0m\n\u001b[0;32m     46\u001b[0m     \u001b[1;32mdef\u001b[0m \u001b[0mexpand\u001b[0m\u001b[1;33m(\u001b[0m\u001b[0mself\u001b[0m\u001b[1;33m,\u001b[0m \u001b[0mbatch_shape\u001b[0m\u001b[1;33m,\u001b[0m \u001b[0m_instance\u001b[0m\u001b[1;33m=\u001b[0m\u001b[1;32mNone\u001b[0m\u001b[1;33m)\u001b[0m\u001b[1;33m:\u001b[0m\u001b[1;33m\u001b[0m\u001b[1;33m\u001b[0m\u001b[0m\n",
      "\u001b[1;32m~\\anaconda3\\envs\\Pyro\\lib\\site-packages\\torch\\distributions\\distribution.py\u001b[0m in \u001b[0;36m__init__\u001b[1;34m(self, batch_shape, event_shape, validate_args)\u001b[0m\n\u001b[0;32m     51\u001b[0m                     \u001b[1;32mcontinue\u001b[0m  \u001b[1;31m# skip checking lazily-constructed args\u001b[0m\u001b[1;33m\u001b[0m\u001b[1;33m\u001b[0m\u001b[0m\n\u001b[0;32m     52\u001b[0m                 \u001b[1;32mif\u001b[0m \u001b[1;32mnot\u001b[0m \u001b[0mconstraint\u001b[0m\u001b[1;33m.\u001b[0m\u001b[0mcheck\u001b[0m\u001b[1;33m(\u001b[0m\u001b[0mgetattr\u001b[0m\u001b[1;33m(\u001b[0m\u001b[0mself\u001b[0m\u001b[1;33m,\u001b[0m \u001b[0mparam\u001b[0m\u001b[1;33m)\u001b[0m\u001b[1;33m)\u001b[0m\u001b[1;33m.\u001b[0m\u001b[0mall\u001b[0m\u001b[1;33m(\u001b[0m\u001b[1;33m)\u001b[0m\u001b[1;33m:\u001b[0m\u001b[1;33m\u001b[0m\u001b[1;33m\u001b[0m\u001b[0m\n\u001b[1;32m---> 53\u001b[1;33m                     \u001b[1;32mraise\u001b[0m \u001b[0mValueError\u001b[0m\u001b[1;33m(\u001b[0m\u001b[1;34m\"The parameter {} has invalid values\"\u001b[0m\u001b[1;33m.\u001b[0m\u001b[0mformat\u001b[0m\u001b[1;33m(\u001b[0m\u001b[0mparam\u001b[0m\u001b[1;33m)\u001b[0m\u001b[1;33m)\u001b[0m\u001b[1;33m\u001b[0m\u001b[1;33m\u001b[0m\u001b[0m\n\u001b[0m\u001b[0;32m     54\u001b[0m         \u001b[0msuper\u001b[0m\u001b[1;33m(\u001b[0m\u001b[0mDistribution\u001b[0m\u001b[1;33m,\u001b[0m \u001b[0mself\u001b[0m\u001b[1;33m)\u001b[0m\u001b[1;33m.\u001b[0m\u001b[0m__init__\u001b[0m\u001b[1;33m(\u001b[0m\u001b[1;33m)\u001b[0m\u001b[1;33m\u001b[0m\u001b[1;33m\u001b[0m\u001b[0m\n\u001b[0;32m     55\u001b[0m \u001b[1;33m\u001b[0m\u001b[0m\n",
      "\u001b[1;31mValueError\u001b[0m: The parameter rate has invalid values"
     ]
    },
    {
     "data": {
      "image/png": "[encoded data removed]",
      "text/plain": [
       "<Figure size 432x288 with 2 Axes>"
      ]
     },
     "metadata": {
      "needs_background": "light"
     },
     "output_type": "display_data"
    }
   ],
   "source": [
    "#run the variation changing the emission probability and the expected number of spurious observations\n",
    "emissionProbs = [0.4, 0.6, 0.8, 1.0]\n",
    "expectedSpurious = [0., 1., 2.]\n",
    "\n",
    "emissionColors = [0.25, 0.5, 0.75, 1.0]\n",
    "spuriousColors = [0.33, 0.66, 1.0]\n",
    "\n",
    "#set up plotting\n",
    "fig, ax = plt.subplots(1,2)\n",
    "ax[0].set_title('Total real vs spurious')\n",
    "ax[1].set_title('Probability real vs spurious')\n",
    "\n",
    "#setting initial args, but we'll be overwriting two of them through the loop\n",
    "argsObj = Args()\n",
    "args = argsObj.get_default_args()\n",
    "args.num_dimensions = 2\n",
    "\n",
    "emCount = 0\n",
    "spCount = 0\n",
    "for em in emissionProbs:\n",
    "    args.emission_prob = em\n",
    "    emColor = emissionColors[emCount]\n",
    "    for sp in expectedSpurious:\n",
    "        spColor = spuriousColors[spCount]\n",
    "        args.expected_num_spurious = sp\n",
    "        runPriorPredictiveChecks(args, ax, emColor, spColor)\n",
    "        spCount = spCount + 1\n",
    "    emCount = emCount + 1\n",
    "\n",
    "ax[0].legend(shadow=True, fancybox=True)\n",
    "ax[1].legend(shadow=True, fancybox=True)\n",
    "plt.show()"
   ]
  },
  {
   "cell_type": "code",
   "execution_count": null,
   "id": "c6a23cbd",
   "metadata": {},
   "outputs": [],
   "source": []
  }
 ],
 "metadata": {
  "kernelspec": {
   "display_name": "Python 3",
   "language": "python",
   "name": "python3"
  },
  "language_info": {
   "codemirror_mode": {
    "name": "ipython",
    "version": 3
   },
   "file_extension": ".py",
   "mimetype": "text/x-python",
   "name": "python",
   "nbconvert_exporter": "python",
   "pygments_lexer": "ipython3",
   "version": "3.8.10"
  }
 },
 "nbformat": 4,
 "nbformat_minor": 5
}
